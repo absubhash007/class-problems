{
 "cells": [
  {
   "cell_type": "code",
   "execution_count": 1,
   "id": "d7a3dd5e",
   "metadata": {},
   "outputs": [
    {
     "name": "stdout",
     "output_type": "stream",
     "text": [
      "Enter radius : 3\n",
      "28.26\n"
     ]
    }
   ],
   "source": [
    "#WAP to input radius and then find area of circle:\n",
    "r=float(input(\"Enter radius : \"))\n",
    "area=3.14*(r**2)\n",
    "print(area)"
   ]
  },
  {
   "cell_type": "code",
   "execution_count": 2,
   "id": "75fea6aa",
   "metadata": {},
   "outputs": [
    {
     "name": "stdout",
     "output_type": "stream",
     "text": [
      "Enter marks 1 number out of 10 : 6\n",
      "Enter marks 2 number out of 10 : 9\n",
      "Enter marks 3 number out of 10 : 8\n",
      "7.666666666666667\n"
     ]
    }
   ],
   "source": [
    "#WAP to input three number and find their average and percentage :\n",
    "m1=float(input(\"Enter marks 1 number out of 10 : \"))\n",
    "m2=float(input(\"Enter marks 2 number out of 10 : \"))\n",
    "m3=float(input(\"Enter marks 3 number out of 10 : \"))\n",
    "avg=(m1+m2+m3)/3\n",
    "per=avg*100/10\n",
    "print(avg)"
   ]
  },
  {
   "cell_type": "code",
   "execution_count": 3,
   "id": "36a3a7aa",
   "metadata": {},
   "outputs": [
    {
     "name": "stdout",
     "output_type": "stream",
     "text": [
      "Enter your weight : 56\n",
      "Enter your height in meter :1.56\n",
      "23.011176857330703\n"
     ]
    }
   ],
   "source": [
    "#calculate BMI:\n",
    "weight=float(input(\"Enter your weight : \"))\n",
    "height=float(input(\"Enter your height in meter :\"))\n",
    "bmi=weight/(height**2)\n",
    "print(bmi)"
   ]
  },
  {
   "cell_type": "code",
   "execution_count": 4,
   "id": "3d59db84",
   "metadata": {},
   "outputs": [
    {
     "name": "stdout",
     "output_type": "stream",
     "text": [
      "Enter principle :100\n",
      "Enter time taken :4\n",
      "Enter rate :5\n",
      "20.0\n"
     ]
    }
   ],
   "source": [
    "#WAP to find simple interest:\n",
    "p=int(input(\"Enter principle :\"))\n",
    "t=int(input(\"Enter time taken :\"))\n",
    "r=int(input(\"Enter rate :\"))\n",
    "simple_interest=(p*t*r)/100\n",
    "print(simple_interest)\n"
   ]
  },
  {
   "cell_type": "code",
   "execution_count": 5,
   "id": "1b0009aa",
   "metadata": {},
   "outputs": [
    {
     "name": "stdout",
     "output_type": "stream",
     "text": [
      "Enter temp. in celsius :-40\n",
      "-40.0\n"
     ]
    }
   ],
   "source": [
    "#WAP to input celsius and conver frehenheight:\n",
    "c=float(input(\"Enter temp. in celsius :\"))\n",
    "f=c*9/5+32\n",
    "print(f)"
   ]
  },
  {
   "cell_type": "code",
   "execution_count": 6,
   "id": "8bdc2234",
   "metadata": {},
   "outputs": [
    {
     "name": "stdout",
     "output_type": "stream",
     "text": [
      "Enter principle :600\n",
      "Enter time taken :1\n",
      "No.of time interest applied per year :1\n",
      "Enter rate :5\n",
      "compound interest =  3000.0\n"
     ]
    }
   ],
   "source": [
    "#WAP to find compound interest:\n",
    "p=int(input(\"Enter principle :\"))\n",
    "t=int(input(\"Enter time taken :\"))\n",
    "n=int(input(\"No.of time interest applied per year :\"))\n",
    "r=float(input(\"Enter rate :\"))\n",
    "ci=p*((1+r/n)**(n*t))-p\n",
    "print(\"compound interest = \",ci)"
   ]
  },
  {
   "cell_type": "code",
   "execution_count": 8,
   "id": "2ede0a0f",
   "metadata": {},
   "outputs": [
    {
     "name": "stdout",
     "output_type": "stream",
     "text": [
      "Principal loan amount : 8000\n",
      "loan tenure in month : 7000\n",
      "Monthly interest rate : 10\n",
      "80000.0\n"
     ]
    }
   ],
   "source": [
    "#WAP to calculate EMI:\n",
    "p=int(input(\"Principal loan amount : \"))\n",
    "n=int(input(\"loan tenure in month : \"))\n",
    "r=int(input(\"Monthly interest rate : \"))\n",
    "#emi=p*r*((1+r)**n)/((1+r)**n-1)\n",
    "emi=p*r*(pow((1+r),n))/(pow((1+r),n)-1)\n",
    "print(emi)"
   ]
  },
  {
   "cell_type": "code",
   "execution_count": 9,
   "id": "f9f6d3ef",
   "metadata": {},
   "outputs": [
    {
     "name": "stdout",
     "output_type": "stream",
     "text": [
      "Enter temp. in celsius : 25\n",
      "298\n"
     ]
    }
   ],
   "source": [
    "#WAP to input calsius and convert in kelvin:\n",
    "c=int(input(\"Enter temp. in celsius : \"))\n",
    "k=c+273\n",
    "print(k) "
   ]
  },
  {
   "cell_type": "code",
   "execution_count": 10,
   "id": "d54a2f2a",
   "metadata": {},
   "outputs": [
    {
     "name": "stdout",
     "output_type": "stream",
     "text": [
      "Enter side one : 3\n",
      "Enter side two : 4\n",
      "Enter side three : 5\n",
      "6.0\n"
     ]
    }
   ],
   "source": [
    "#WAP to calculate the area of triangle:\n",
    "from math import *\n",
    "s1=int(input(\"Enter side one : \"))\n",
    "s2=int(input(\"Enter side two : \"))\n",
    "s3=int(input(\"Enter side three : \"))\n",
    "s=(s1+s2+s3)/2\n",
    "area=sqrt(s*(s-s1)*(s-s2)*(s-s3))\n",
    "print(area)"
   ]
  },
  {
   "cell_type": "code",
   "execution_count": 11,
   "id": "a761ba42",
   "metadata": {},
   "outputs": [
    {
     "name": "stdout",
     "output_type": "stream",
     "text": [
      "Enter seconds : 200\n",
      "3 min 20 sec\n",
      "3 min and 20 sec\n"
     ]
    }
   ],
   "source": [
    "#WAP to convert 200 second = 3min 20sec:\n",
    "sec=int(input(\"Enter seconds : \"))\n",
    "min=int(sec/60)\n",
    "sec=sec%60\n",
    "print(min,\"min\",sec,\"sec\")\n",
    "print(\"{0} min and {1} sec\".format(min,sec))"
   ]
  },
  {
   "cell_type": "code",
   "execution_count": 13,
   "id": "f87f216f",
   "metadata": {},
   "outputs": [
    {
     "name": "stdout",
     "output_type": "stream",
     "text": [
      "ENter any number : -87\n",
      "Negative\n"
     ]
    }
   ],
   "source": [
    "#WAP to input a number and check whether it is positive or negative:\n",
    "num=int(input(\"ENter any number : \"))\n",
    "if(num>0):\n",
    "    print(\"Positive\")\n",
    "else:\n",
    "    print(\"Negative\")"
   ]
  },
  {
   "cell_type": "code",
   "execution_count": 14,
   "id": "813aeae3",
   "metadata": {},
   "outputs": [
    {
     "name": "stdout",
     "output_type": "stream",
     "text": [
      "Enter any number : 766\n",
      "Even number\n"
     ]
    }
   ],
   "source": [
    "#WAP to input a number and check whether it is odd or even:\n",
    "num=int(input(\"Enter any number : \"))\n",
    "if(num%2==0):\n",
    "    print(\"Even number\")\n",
    "else:\n",
    "    print(\"Odd number \")"
   ]
  },
  {
   "cell_type": "code",
   "execution_count": 15,
   "id": "29220dbb",
   "metadata": {},
   "outputs": [
    {
     "name": "stdout",
     "output_type": "stream",
     "text": [
      "Enter any number : 6362\n",
      "Not divisible by 5 & 3\n"
     ]
    }
   ],
   "source": [
    "#WAP to input a number and check whether it is divisible by 5 as well as 3 using if-else:\n",
    "num=int(input(\"Enter any number : \"))\n",
    "if(num%5==0 and num%3==0):\n",
    "    print(\"Given num is divisible by both 5 & 3\")\n",
    "else:\n",
    "    print(\"Not divisible by 5 & 3\")"
   ]
  },
  {
   "cell_type": "code",
   "execution_count": 16,
   "id": "a5f345f4",
   "metadata": {},
   "outputs": [
    {
     "name": "stdout",
     "output_type": "stream",
     "text": [
      "Enter any character : h\n",
      "consonant\n"
     ]
    }
   ],
   "source": [
    "#WAP to input a character and check whether it is vowel or consonant:\n",
    "ch=input(\"Enter any character : \")\n",
    "if(ch=='a' or ch=='e' or ch=='i' or ch=='o' or ch=='u'):\n",
    "    print(\"vowel\")\n",
    "else:\n",
    "    print(\"consonant\")"
   ]
  },
  {
   "cell_type": "code",
   "execution_count": 17,
   "id": "d8b15e5c",
   "metadata": {},
   "outputs": [
    {
     "name": "stdout",
     "output_type": "stream",
     "text": [
      "Enter marks : 87\n",
      "A\n"
     ]
    }
   ],
   "source": [
    "#Multiple conditional statement\n",
    "#WAP tinput maarks of a student and print their grade:\n",
    "# marks         Grade\n",
    "# 90 to 100     A+\n",
    "# 80 to 90      A\n",
    "# 70 to 80      B+\n",
    "# 60 to 70      B\n",
    "# 50 to 60      C+\n",
    "# 40 to 50      C\n",
    "# 30 to 40      D\n",
    "# less then 30  FAIL\n",
    "\n",
    "marks=int(input(\"Enter marks : \"))\n",
    "\n",
    "if(marks>=90 and marks<=100):\n",
    "    print(\"A+\")\n",
    "elif(marks>=80 and marks<90):\n",
    "    print(\"A\")\n",
    "elif(marks>=70 and marks<800):\n",
    "    print(\"B+\")\n",
    "elif(marks>=60 and marks<70):\n",
    "    print(\"B\")\n",
    "elif(marks>=50 and marks<60):\n",
    "    print(\"C+\")\n",
    "elif(marks>=40 and marks<500):\n",
    "    print(\"C\")\n",
    "elif(marks>30 and marks<400):\n",
    "    print(\"D\")\n",
    "else:\n",
    "    print(\"FAIL\")"
   ]
  },
  {
   "cell_type": "code",
   "execution_count": 18,
   "id": "90845a25",
   "metadata": {},
   "outputs": [
    {
     "name": "stdout",
     "output_type": "stream",
     "text": [
      "Enter first number : 76\n",
      "Enter second number : 89\n",
      "Enter third number : 90\n",
      "largest number =  90\n"
     ]
    }
   ],
   "source": [
    "#WAP to input three numbers and print the largest one:\n",
    "n1=int(input(\"Enter first number : \"))\n",
    "n2=int(input(\"Enter second number : \"))\n",
    "n3=int(input(\"Enter third number : \"))\n",
    "if(n1>n2 and n1>n3):\n",
    "    print(\" largest number = \",n1)\n",
    "elif(n2>n3):\n",
    "    print(\"largest number = \",n2)\n",
    "else:\n",
    "    print(\"largest number = \",n3)"
   ]
  },
  {
   "cell_type": "code",
   "execution_count": 19,
   "id": "46b0659b",
   "metadata": {},
   "outputs": [
    {
     "name": "stdout",
     "output_type": "stream",
     "text": [
      "Enter year : 2100\n",
      "not leap year\n"
     ]
    }
   ],
   "source": [
    "#WAP to input a year and check whether it is leap or not:\n",
    "year=int(input(\"Enter year : \"))\n",
    "if(year%400==0 or (year%100!=0 and year%4==0)):\n",
    "    print(\"leap year\")\n",
    "else:\n",
    "    print(\"not leap year\")"
   ]
  },
  {
   "cell_type": "code",
   "execution_count": 20,
   "id": "2fc2fc51",
   "metadata": {},
   "outputs": [
    {
     "name": "stdout",
     "output_type": "stream",
     "text": [
      "Enter operation name : +\n",
      "Enter first number : 4\n",
      "Enter second number : 6\n",
      "10\n"
     ]
    }
   ],
   "source": [
    "#WAP to input an operator and two numbers and based on the operator perform the operations b/w the two numbers:\n",
    "op=input(\"Enter operation name : \")\n",
    "n1=int(input(\"Enter first number : \"))\n",
    "n2=int(input(\"Enter second number : \"))\n",
    "if(op=='+'):\n",
    "    print(n1+n2)\n",
    "elif(op=='-'):\n",
    "    print(n1-n2)\n",
    "elif(op=='*'):\n",
    "    print(n1*n2)\n",
    "elif(op=='/'):\n",
    "    print(n1/n2)"
   ]
  },
  {
   "cell_type": "code",
   "execution_count": 21,
   "id": "fa5f6e30",
   "metadata": {},
   "outputs": [
    {
     "name": "stdout",
     "output_type": "stream",
     "text": [
      "Enter weight in kg : 56\n",
      "Enter height in m : 1.58\n",
      "BMI =  22.432302515622492\n",
      "Normal\n"
     ]
    }
   ],
   "source": [
    "#WAP to print the health status of a person by following :\n",
    "# BMI               HEALTH STATUS\n",
    "# Below 18.5        UnderWeight\n",
    "# 18.5 to 24.9      Normal\n",
    "# 25.0 to 29.9      Overweight\n",
    "# 30.0 and above    Obese\n",
    "\n",
    "weight=int(input(\"Enter weight in kg : \"))\n",
    "height=float(input(\"Enter height in m : \"))\n",
    "BMI=weight/(height**2)\n",
    "print(\"BMI = \",BMI)\n",
    "if(BMI<18.5):\n",
    "    print(\"UnderWeight\")\n",
    "elif(BMI>=18.5 and BMI<24.9):\n",
    "    print(\"Normal\")\n",
    "elif(BMI>=25.0 and BMI<29.9):\n",
    "    print(\"Overweight\")\n",
    "else:\n",
    "    print(\"Obese\")"
   ]
  },
  {
   "cell_type": "code",
   "execution_count": null,
   "id": "1a1246d1",
   "metadata": {},
   "outputs": [],
   "source": []
  }
 ],
 "metadata": {
  "kernelspec": {
   "display_name": "Python 3 (ipykernel)",
   "language": "python",
   "name": "python3"
  },
  "language_info": {
   "codemirror_mode": {
    "name": "ipython",
    "version": 3
   },
   "file_extension": ".py",
   "mimetype": "text/x-python",
   "name": "python",
   "nbconvert_exporter": "python",
   "pygments_lexer": "ipython3",
   "version": "3.11.2"
  }
 },
 "nbformat": 4,
 "nbformat_minor": 5
}
