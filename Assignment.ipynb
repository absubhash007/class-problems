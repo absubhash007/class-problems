{
 "cells": [
  {
   "cell_type": "code",
   "execution_count": 8,
   "id": "38e49fb2",
   "metadata": {},
   "outputs": [
    {
     "name": "stdout",
     "output_type": "stream",
     "text": [
      "Enter string : hbwfjheg idwu KEGWGYUG\n",
      "Total uppercase letter =  8\n",
      "Total lowercase letter =  12\n"
     ]
    }
   ],
   "source": [
    "#WAP to input a string and count the number of uppercase and lowercase letters.\n",
    "str=input(\"Enter string : \")\n",
    "uc=lc=0\n",
    "for i in str:\n",
    "    if i.isupper():\n",
    "        uc+=1\n",
    "    elif i.islower():\n",
    "        lc+=1\n",
    "print(\"Total uppercase letter = \",uc)\n",
    "print(\"Total lowercase letter = \",lc)"
   ]
  },
  {
   "cell_type": "code",
   "execution_count": 15,
   "id": "392b8873",
   "metadata": {},
   "outputs": [
    {
     "name": "stdout",
     "output_type": "stream",
     "text": [
      "Enter string : subhash\n",
      "sbah\n"
     ]
    }
   ],
   "source": [
    "#WAP to remove characters that have odd index values in a given string.\n",
    "str=input(\"Enter string : \")\n",
    "print(str[::2])"
   ]
  },
  {
   "cell_type": "code",
   "execution_count": 27,
   "id": "a45c6841",
   "metadata": {},
   "outputs": [
    {
     "name": "stdout",
     "output_type": "stream",
     "text": [
      "Enter string : subhash\n",
      "sush\n"
     ]
    }
   ],
   "source": [
    "#WAP to get a string made of the first 2 and last 2 characters of a given string.\n",
    "#If the string length is less than 2 return the empty string instead\n",
    "str=input(\"Enter string : \")\n",
    "if(len(str)<2):\n",
    "    print(\"\")\n",
    "else:\n",
    "    str1=str[0:2] + str[-2:]\n",
    "    print(str1)"
   ]
  },
  {
   "cell_type": "code",
   "execution_count": null,
   "id": "21eee07f",
   "metadata": {},
   "outputs": [],
   "source": []
  }
 ],
 "metadata": {
  "kernelspec": {
   "display_name": "Python 3 (ipykernel)",
   "language": "python",
   "name": "python3"
  },
  "language_info": {
   "codemirror_mode": {
    "name": "ipython",
    "version": 3
   },
   "file_extension": ".py",
   "mimetype": "text/x-python",
   "name": "python",
   "nbconvert_exporter": "python",
   "pygments_lexer": "ipython3",
   "version": "3.11.2"
  }
 },
 "nbformat": 4,
 "nbformat_minor": 5
}
