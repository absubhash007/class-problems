{
 "cells": [
  {
   "cell_type": "code",
   "execution_count": 2,
   "id": "d144aba8",
   "metadata": {},
   "outputs": [
    {
     "name": "stdout",
     "output_type": "stream",
     "text": [
      "Welcome\n"
     ]
    }
   ],
   "source": [
    "#Functions\n",
    "def demo():\n",
    "    print(\"Welcome\")\n",
    "\n",
    "demo()   # calling function"
   ]
  },
  {
   "cell_type": "code",
   "execution_count": 3,
   "id": "a8a7f3db",
   "metadata": {},
   "outputs": [
    {
     "name": "stdout",
     "output_type": "stream",
     "text": [
      "subhash\n"
     ]
    }
   ],
   "source": [
    "#Functions\n",
    "def demo(name):  #here , name is the parameter\n",
    "    print(name)\n",
    "\n",
    "demo(\"subhash\")"
   ]
  },
  {
   "cell_type": "code",
   "execution_count": 6,
   "id": "58c811cc",
   "metadata": {},
   "outputs": [
    {
     "name": "stdout",
     "output_type": "stream",
     "text": [
      "hello , subhash\n"
     ]
    }
   ],
   "source": [
    "#Functions\n",
    "def demo(msg,name):\n",
    "    print(msg,\",\",name)\n",
    "\n",
    "demo(\"hello\",\"subhash\")   # calling function"
   ]
  },
  {
   "cell_type": "code",
   "execution_count": 9,
   "id": "bc3b562a",
   "metadata": {},
   "outputs": [
    {
     "name": "stdout",
     "output_type": "stream",
     "text": [
      "Enter the name : Subhash\n",
      "Subhash\n"
     ]
    }
   ],
   "source": [
    "#Functions\n",
    "def demo(name):   #formal parameter\n",
    "    print(name)\n",
    "\n",
    "n=input(\"Enter the name : \")\n",
    "\n",
    "demo(n)  #actual parameter"
   ]
  },
  {
   "cell_type": "code",
   "execution_count": 11,
   "id": "e25e1676",
   "metadata": {},
   "outputs": [
    {
     "name": "stdout",
     "output_type": "stream",
     "text": [
      "Enter first number :7\n",
      "Enter second number :8\n",
      "8 7\n"
     ]
    }
   ],
   "source": [
    "#WAP to creat a function which shoule two parameters as input  and you have to swap them and \n",
    "#print their updated values\n",
    "def swap(n1,n2):\n",
    "    n1,n2=n2,n1\n",
    "    #print(n1,n2)\n",
    "    return(n1,n2)  #in python , return multiple values\n",
    "num1=int(input(\"Enter first number :\"))\n",
    "num2=int(input(\"Enter second number :\"))\n",
    "n3,n4=swap(num1,num2)\n",
    "print(n3,n4)"
   ]
  },
  {
   "cell_type": "code",
   "execution_count": 12,
   "id": "aeeeb351",
   "metadata": {},
   "outputs": [
    {
     "ename": "NameError",
     "evalue": "name 'a' is not defined",
     "output_type": "error",
     "traceback": [
      "\u001b[0;31m---------------------------------------------------------------------------\u001b[0m",
      "\u001b[0;31mNameError\u001b[0m                                 Traceback (most recent call last)",
      "Cell \u001b[0;32mIn [12], line 5\u001b[0m\n\u001b[1;32m      3\u001b[0m     a\u001b[38;5;241m=\u001b[39m\u001b[38;5;241m2\u001b[39m   \u001b[38;5;66;03m# a is local variable--->use only this function\u001b[39;00m\n\u001b[1;32m      4\u001b[0m demo()\n\u001b[0;32m----> 5\u001b[0m \u001b[38;5;28mprint\u001b[39m(\u001b[43ma\u001b[49m)  \u001b[38;5;66;03m# cannot be accessed here\u001b[39;00m\n",
      "\u001b[0;31mNameError\u001b[0m: name 'a' is not defined"
     ]
    }
   ],
   "source": [
    "#Local and Global variables\n",
    "def demo():\n",
    "    a=2   # a is local variable--->use only this function\n",
    "demo()\n",
    "print(a)  # cannot be accessed here"
   ]
  },
  {
   "cell_type": "code",
   "execution_count": 13,
   "id": "739c5506",
   "metadata": {},
   "outputs": [
    {
     "name": "stdout",
     "output_type": "stream",
     "text": [
      "2\n"
     ]
    },
    {
     "ename": "NameError",
     "evalue": "name 'a' is not defined",
     "output_type": "error",
     "traceback": [
      "\u001b[0;31m---------------------------------------------------------------------------\u001b[0m",
      "\u001b[0;31mNameError\u001b[0m                                 Traceback (most recent call last)",
      "Cell \u001b[0;32mIn [13], line 4\u001b[0m\n\u001b[1;32m      2\u001b[0m     \u001b[38;5;28mprint\u001b[39m(a)\n\u001b[1;32m      3\u001b[0m demo(\u001b[38;5;241m2\u001b[39m)\n\u001b[0;32m----> 4\u001b[0m \u001b[38;5;28mprint\u001b[39m(\u001b[43ma\u001b[49m)  \u001b[38;5;66;03m# cannot be accessed here\u001b[39;00m\n",
      "\u001b[0;31mNameError\u001b[0m: name 'a' is not defined"
     ]
    }
   ],
   "source": [
    "def demo(a):\n",
    "    print(a)   # a is local variable--->use only this function\n",
    "demo(2)\n",
    "print(a)  # cannot be accessed here"
   ]
  },
  {
   "cell_type": "code",
   "execution_count": 14,
   "id": "3759c388",
   "metadata": {},
   "outputs": [
    {
     "name": "stdout",
     "output_type": "stream",
     "text": [
      "john\n",
      "john\n"
     ]
    }
   ],
   "source": [
    "name=\"john\" #Global variable\n",
    "def demo():\n",
    "    print(name)\n",
    "demo()\n",
    "print(name)"
   ]
  },
  {
   "cell_type": "code",
   "execution_count": 15,
   "id": "431109c0",
   "metadata": {},
   "outputs": [
    {
     "name": "stdout",
     "output_type": "stream",
     "text": [
      "8\n",
      "10\n"
     ]
    }
   ],
   "source": [
    "a=10 #Global variable\n",
    "def demo():\n",
    "    a=8\n",
    "    print(a)\n",
    "demo()\n",
    "print(a)"
   ]
  },
  {
   "cell_type": "code",
   "execution_count": 17,
   "id": "df69ef4f",
   "metadata": {},
   "outputs": [
    {
     "name": "stdout",
     "output_type": "stream",
     "text": [
      "18\n",
      "18\n"
     ]
    }
   ],
   "source": [
    "a=10 #Global variable\n",
    "def demo():\n",
    "    global a\n",
    "    a=a+8\n",
    "    print(a)\n",
    "demo()\n",
    "print(a)"
   ]
  },
  {
   "cell_type": "code",
   "execution_count": 19,
   "id": "32a7ae3a",
   "metadata": {},
   "outputs": [
    {
     "name": "stdout",
     "output_type": "stream",
     "text": [
      "10\n"
     ]
    }
   ],
   "source": [
    "#function have default argument\n",
    "def demo(a=10):\n",
    "    print(a)\n",
    "demo()"
   ]
  },
  {
   "cell_type": "code",
   "execution_count": 20,
   "id": "1af869a0",
   "metadata": {},
   "outputs": [
    {
     "name": "stdout",
     "output_type": "stream",
     "text": [
      "4\n"
     ]
    }
   ],
   "source": [
    "#function have default argument\n",
    "def demo(a=10):\n",
    "    print(a)\n",
    "demo(4)"
   ]
  },
  {
   "cell_type": "code",
   "execution_count": 22,
   "id": "93c4e68f",
   "metadata": {},
   "outputs": [
    {
     "name": "stdout",
     "output_type": "stream",
     "text": [
      "4 12 87 90 3\n"
     ]
    }
   ],
   "source": [
    "def demo(*args):\n",
    "    print(*args)\n",
    "demo(4,12,87,90,3)"
   ]
  },
  {
   "cell_type": "code",
   "execution_count": 28,
   "id": "258cb882",
   "metadata": {},
   "outputs": [
    {
     "name": "stdout",
     "output_type": "stream",
     "text": [
      "Enter number do you want to calculate factorial : 7\n",
      "5040\n"
     ]
    }
   ],
   "source": [
    "#Recuesion\n",
    "#calculate factorial of a number using recursive function\n",
    "def factorial(n):\n",
    "    if(n==0):\n",
    "        return 1\n",
    "    else:\n",
    "        return n*factorial(n-1)\n",
    "num=int(input(\"Enter number do you want to calculate factorial : \"))\n",
    "fact=(factorial(num))\n",
    "print(fact)"
   ]
  },
  {
   "cell_type": "code",
   "execution_count": 36,
   "id": "eff195f5",
   "metadata": {},
   "outputs": [
    {
     "name": "stdout",
     "output_type": "stream",
     "text": [
      "Enter number : 12345\n",
      "15\n"
     ]
    }
   ],
   "source": [
    "#calculate the sum of digits using recursive function\n",
    "def sum(n):\n",
    "    if(n==0):\n",
    "        return 0\n",
    "    else:\n",
    "        k=n%10\n",
    "        return k+sum(n//10)\n",
    "num=int(input(\"Enter number : \"))\n",
    "print(sum(num))"
   ]
  },
  {
   "cell_type": "code",
   "execution_count": 45,
   "id": "a1a1f1f2",
   "metadata": {},
   "outputs": [
    {
     "name": "stdout",
     "output_type": "stream",
     "text": [
      "Enter base : 8\n",
      "Enter exponent : 3\n",
      "512\n"
     ]
    }
   ],
   "source": [
    "#calculate power of a number using recursion ---> base abd exponent\n",
    "def power(b,e):\n",
    "    if(e==0):\n",
    "        return 1\n",
    "    else:\n",
    "        return (b*power(b,e-1))\n",
    "base=int(input(\"Enter base : \"))\n",
    "exponent=int(input(\"Enter exponent : \"))\n",
    "print(power(base,exponent))"
   ]
  },
  {
   "cell_type": "code",
   "execution_count": 50,
   "id": "c30f7a81",
   "metadata": {},
   "outputs": [
    {
     "name": "stdout",
     "output_type": "stream",
     "text": [
      "Enter string value :12321\n",
      "True\n"
     ]
    }
   ],
   "source": [
    "#WAP to check whether a string is palindrome or not using recursion\n",
    "def palindrome(str):\n",
    "    if len(str)==1:\n",
    "        return True\n",
    "    else:\n",
    "        if(str[0]==str[-1]):\n",
    "            return palindrome(str[1:-1])\n",
    "        else:\n",
    "            return False\n",
    "str1=input(\"Enter string value :\")        \n",
    "print(palindrome(str1))\n",
    "        "
   ]
  },
  {
   "cell_type": "code",
   "execution_count": 3,
   "id": "dff9b303",
   "metadata": {},
   "outputs": [
    {
     "name": "stdout",
     "output_type": "stream",
     "text": [
      "Enter number : 10\n",
      "0 1 1 2 3 5 8 13 21 34 "
     ]
    }
   ],
   "source": [
    "#WAP to print fibonacci series using recursion\n",
    "def fibonacci(n):\n",
    "    if(n==0):\n",
    "        return 0\n",
    "    if(n==1):\n",
    "        return 1\n",
    "    return fibonacci(n-1)+fibonacci(n-2)\n",
    "num=int(input(\"Enter number : \"))\n",
    "for i in range(0,num):\n",
    "    print(fibonacci(i),end=' ')\n",
    "    #print(k,end=' ')"
   ]
  },
  {
   "cell_type": "code",
   "execution_count": 1,
   "id": "8d93f98c",
   "metadata": {},
   "outputs": [
    {
     "name": "stdout",
     "output_type": "stream",
     "text": [
      "Enter any number : 20\n",
      "210\n"
     ]
    }
   ],
   "source": [
    "#WAP to print the sum of n natural number using recursion.\n",
    "def sum(n):\n",
    "    if(n==1):\n",
    "        return 1\n",
    "    else:\n",
    "        return n+sum(n-1)\n",
    "num=int(input(\"Enter any number : \"))\n",
    "print(sum(num))"
   ]
  },
  {
   "cell_type": "code",
   "execution_count": 4,
   "id": "40bb3ccf",
   "metadata": {},
   "outputs": [
    {
     "name": "stdout",
     "output_type": "stream",
     "text": [
      "10\n"
     ]
    }
   ],
   "source": [
    "#Lambda function\n",
    "# Syntex:\n",
    "# lambda(argument,arg2....):body\n",
    "#lambda function cannot use foe loop\n",
    "result=lambda x:x\n",
    "print(result(10))"
   ]
  },
  {
   "cell_type": "code",
   "execution_count": 5,
   "id": "4e4dd2e5",
   "metadata": {},
   "outputs": [
    {
     "name": "stdout",
     "output_type": "stream",
     "text": [
      "18\n"
     ]
    }
   ],
   "source": [
    "result=lambda x:x+8\n",
    "print(result(10))"
   ]
  },
  {
   "cell_type": "code",
   "execution_count": 11,
   "id": "034fdab0",
   "metadata": {},
   "outputs": [
    {
     "name": "stdout",
     "output_type": "stream",
     "text": [
      "[1, 4, 9, 16, 25]\n"
     ]
    }
   ],
   "source": [
    "lst=[1,2,3,4,5]\n",
    "result=(map(lambda x:x**2,lst))\n",
    "print(list(result))"
   ]
  },
  {
   "cell_type": "code",
   "execution_count": 1,
   "id": "52ed1103",
   "metadata": {},
   "outputs": [
    {
     "name": "stdout",
     "output_type": "stream",
     "text": [
      "['SUBHASH', 'KUMAR']\n"
     ]
    }
   ],
   "source": [
    "# WAP alambda expression which convert all the strings inside the list into uppercase\n",
    "lst=[\"subhash\",\"kumar\"]\n",
    "res=map(lambda x:x.upper(),lst)\n",
    "print(list(res))"
   ]
  },
  {
   "cell_type": "code",
   "execution_count": 2,
   "id": "d5d2a7f7",
   "metadata": {},
   "outputs": [
    {
     "data": {
      "text/plain": [
       "[45, 67, 11]"
      ]
     },
     "execution_count": 2,
     "metadata": {},
     "output_type": "execute_result"
    }
   ],
   "source": [
    "lst=[12,45,67,11]\n",
    "result=filter(lambda x:x%2,lst)\n",
    "list(result)"
   ]
  },
  {
   "cell_type": "code",
   "execution_count": 8,
   "id": "b28b1a63",
   "metadata": {},
   "outputs": [
    {
     "name": "stdout",
     "output_type": "stream",
     "text": [
      "[1, 2, 4, 6]\n"
     ]
    }
   ],
   "source": [
    "#WAP a program to filter only integers from a list of variable\n",
    "lst=['a',1,2,4,6,'b','g']\n",
    "result=filter(lambda x:type(x)==int,lst)\n",
    "print(list(result))"
   ]
  },
  {
   "cell_type": "code",
   "execution_count": 13,
   "id": "d8a23c43",
   "metadata": {},
   "outputs": [
    {
     "data": {
      "text/plain": [
       "[{'make': 'nokia', 'model': 256, 'color': 'black'}]"
      ]
     },
     "execution_count": 13,
     "metadata": {},
     "output_type": "execute_result"
    }
   ],
   "source": [
    "models=[{'make':'nokia','model':256,'color':'black'},\n",
    "        {'make':'mi max','model':2,'color':'gold'},\n",
    "        {'make':'samsung','model':7,'color':'blue'}]\n",
    "result=filter(lambda x:x['model']>7,models)\n",
    "list(result)"
   ]
  },
  {
   "cell_type": "code",
   "execution_count": 14,
   "id": "15491e84",
   "metadata": {},
   "outputs": [
    {
     "name": "stdout",
     "output_type": "stream",
     "text": [
      "28\n"
     ]
    }
   ],
   "source": [
    "from functools import reduce\n",
    "lst=[1,2,3,4,5,6,7]\n",
    "result=reduce(lambda x,y:x+y,lst)\n",
    "print(result)"
   ]
  },
  {
   "cell_type": "code",
   "execution_count": 17,
   "id": "599bfaff",
   "metadata": {},
   "outputs": [
    {
     "name": "stdout",
     "output_type": "stream",
     "text": [
      "10\n"
     ]
    }
   ],
   "source": [
    "from functools import reduce\n",
    "lst=[1,2,3,4,5,6,7,9,10]\n",
    "result=reduce(lambda x,y:max(x,y),lst)\n",
    "print(result)"
   ]
  },
  {
   "cell_type": "code",
   "execution_count": 19,
   "id": "c54ddff3",
   "metadata": {},
   "outputs": [
    {
     "name": "stdout",
     "output_type": "stream",
     "text": [
      "10\n"
     ]
    }
   ],
   "source": [
    "from functools import reduce\n",
    "lst=[1,2,3,4,5,6,7,9,10]\n",
    "result=reduce(lambda x,y:x if x>y else y,lst)\n",
    "print(result)"
   ]
  },
  {
   "cell_type": "code",
   "execution_count": 26,
   "id": "e8a8a471",
   "metadata": {},
   "outputs": [
    {
     "name": "stdout",
     "output_type": "stream",
     "text": [
      "[{'make': 'mi max', 'model': 2, 'color': 'gold'}, {'make': 'samsung', 'model': 7, 'color': 'blue'}, {'make': 'nokia', 'model': 256, 'color': 'black'}]\n"
     ]
    }
   ],
   "source": [
    "models=[{'make':'nokia','model':256,'color':'black'},\n",
    "        {'make':'mi max','model':2,'color':'gold'},\n",
    "        {'make':'samsung','model':7,'color':'blue'}]\n",
    "resule=models.sort(key=lambda x:x['model'])\n",
    "print(models)"
   ]
  },
  {
   "cell_type": "code",
   "execution_count": 28,
   "id": "2a3e39cc",
   "metadata": {},
   "outputs": [
    {
     "name": "stdout",
     "output_type": "stream",
     "text": [
      "[{'make': 'mi max', 'model': 2, 'color': 'gold'}, {'make': 'samsung', 'model': 7, 'color': 'blue'}, {'make': 'nokia', 'model': 256, 'color': 'black'}]\n"
     ]
    }
   ],
   "source": [
    "models=[{'make':'nokia','model':256,'color':'black'},\n",
    "        {'make':'mi max','model':2,'color':'gold'},\n",
    "        {'make':'samsung','model':7,'color':'blue'}]\n",
    "result=sorted(models,key=lambda x:x['model'])\n",
    "print(result)"
   ]
  },
  {
   "cell_type": "code",
   "execution_count": 37,
   "id": "bc94b286",
   "metadata": {},
   "outputs": [
    {
     "name": "stdout",
     "output_type": "stream",
     "text": [
      "[2, 4, 6, 8, 14]\n"
     ]
    }
   ],
   "source": [
    "#WAP to add two lists using lambda function\n",
    "lst1=[1,2,3,4,5]\n",
    "lst2=[1,2,3,4,9,8]\n",
    "result=map(lambda x,y:x+y,lst1,lst2)\n",
    "print(list(result))"
   ]
  },
  {
   "cell_type": "code",
   "execution_count": 2,
   "id": "609a33f7",
   "metadata": {},
   "outputs": [
    {
     "name": "stdout",
     "output_type": "stream",
     "text": [
      "{'Cierra Vega': (6.2, 72)}\n"
     ]
    }
   ],
   "source": [
    "#Write a Python program to filter the height and weight of students, which are stored in a dictionary using lambda.\n",
    "#{'Cierra Vega': (6.2, 72), 'Alden Cantrell': (5.9, 65), 'Kierra Gentry': (6.0, 68), 'Pierre Cox': (5.8, 66)}\n",
    "#Height> 6ft and Weight>70kg:{'Cierra Vega': (6.2, 70)}\n",
    "d={'Cierra Vega': (6.2, 72), 'Alden Cantrell': (5.9, 65), 'Kierra Gentry': (6.0, 68), 'Pierre Cox': (5.8, 66)}\n",
    "result=dict(filter(lambda x:x[1][0]>6 and x[1][1]>70,d.items()))\n",
    "print((result))\n"
   ]
  },
  {
   "cell_type": "code",
   "execution_count": 3,
   "id": "f4167d7e",
   "metadata": {},
   "outputs": [
    {
     "name": "stdout",
     "output_type": "stream",
     "text": [
      "Cierra Vega (6.2, 72)\n",
      "Alden Cantrell (5.9, 65)\n",
      "Kierra Gentry (6.0, 68)\n",
      "Pierre Cox (5.8, 66)\n"
     ]
    }
   ],
   "source": [
    "d={'Cierra Vega': (6.2, 72), 'Alden Cantrell': (5.9, 65), 'Kierra Gentry': (6.0, 68), 'Pierre Cox': (5.8, 66)}\n",
    "for key,val in d.items():\n",
    "    print(key,val)"
   ]
  },
  {
   "cell_type": "code",
   "execution_count": null,
   "id": "b1dd0268",
   "metadata": {},
   "outputs": [],
   "source": []
  }
 ],
 "metadata": {
  "kernelspec": {
   "display_name": "Python 3 (ipykernel)",
   "language": "python",
   "name": "python3"
  },
  "language_info": {
   "codemirror_mode": {
    "name": "ipython",
    "version": 3
   },
   "file_extension": ".py",
   "mimetype": "text/x-python",
   "name": "python",
   "nbconvert_exporter": "python",
   "pygments_lexer": "ipython3",
   "version": "3.11.2"
  }
 },
 "nbformat": 4,
 "nbformat_minor": 5
}
