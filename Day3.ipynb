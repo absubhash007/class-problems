{
 "cells": [
  {
   "cell_type": "code",
   "execution_count": 1,
   "id": "661ffe53",
   "metadata": {},
   "outputs": [
    {
     "name": "stdout",
     "output_type": "stream",
     "text": [
      "1 2 3 4 5 6 7 8 9 10 11 12 13 14 15 16 17 18 19 20 21 22 23 24 25 26 27 28 29 30 "
     ]
    }
   ],
   "source": [
    "#WAP to print 1 to 30 .\n",
    "i=1\n",
    "while(i<=30):\n",
    "    print(i,end=\" \")\n",
    "    i+=1"
   ]
  },
  {
   "cell_type": "code",
   "execution_count": 7,
   "id": "ddcc2d0d",
   "metadata": {},
   "outputs": [
    {
     "name": "stdout",
     "output_type": "stream",
     "text": [
      "Enter any number : 123\n",
      "sum of digits of  123 = 6\n"
     ]
    }
   ],
   "source": [
    "#WAP to input a number and sum of its digits.\n",
    "num=int(input(\"Enter any number : \"))\n",
    "k=num\n",
    "s=0\n",
    "while(num!=0):\n",
    "    r=num%10\n",
    "    num=int(num/10)   #  num = num//10\n",
    "    s+=r\n",
    "print(\"sum of digits of \",k,\"=\",s)"
   ]
  },
  {
   "cell_type": "code",
   "execution_count": null,
   "id": "cd363c41",
   "metadata": {},
   "outputs": [],
   "source": [
    "#WAP to input a number and find whether it is armstrong number or not.\n",
    "num=int(input(\"Enter any number : \"))\n",
    "k=num\n",
    "s=0\n",
    "while(num!=0):\n",
    "    r=num%10\n",
    "    #s+=r\n",
    "    num=num//10\n",
    "    p=r**3\n",
    "    s+=p\n",
    "if(s==k):\n",
    "    print(\"armstrong num\")\n",
    "else:\n",
    "    print(\"armstrong num\")"
   ]
  },
  {
   "cell_type": "code",
   "execution_count": 15,
   "id": "cd2cae0b",
   "metadata": {},
   "outputs": [
    {
     "name": "stdout",
     "output_type": "stream",
     "text": [
      "Enter any number : 11\n",
      "palindeom\n"
     ]
    }
   ],
   "source": [
    "#WAP to input a number and check whether it is palindrom or not.\n",
    "num=int(input(\"Enter any number : \"))\n",
    "k=num\n",
    "s=0\n",
    "while(num!=0):\n",
    "    r=num%10\n",
    "    s=s*10+r\n",
    "    num=num//10\n",
    "if(k==s):\n",
    "    print(\"palindeom\")\n",
    "else:\n",
    "    print(\"not\")"
   ]
  },
  {
   "cell_type": "code",
   "execution_count": 17,
   "id": "1087629a",
   "metadata": {},
   "outputs": [
    {
     "name": "stdout",
     "output_type": "stream",
     "text": [
      "1 2 3 4 "
     ]
    }
   ],
   "source": [
    "#Break statement.\n",
    "for i in range(1,10):\n",
    "    if(i==5):\n",
    "        break\n",
    "    else:\n",
    "        print(i,end=' ')"
   ]
  },
  {
   "cell_type": "code",
   "execution_count": 18,
   "id": "d80298b0",
   "metadata": {},
   "outputs": [
    {
     "name": "stdout",
     "output_type": "stream",
     "text": [
      "1 2 3 4 6 7 8 9 "
     ]
    }
   ],
   "source": [
    "#continue statement.\n",
    "for i in range(1,10):\n",
    "    if(i==5):\n",
    "        continue\n",
    "    else:\n",
    "        print(i,end=' ')"
   ]
  },
  {
   "cell_type": "code",
   "execution_count": 49,
   "id": "114c7486",
   "metadata": {},
   "outputs": [
    {
     "name": "stdout",
     "output_type": "stream",
     "text": [
      "Enter any number : 29\n",
      "Prime\n"
     ]
    }
   ],
   "source": [
    "#WAP to input a number and find whether its prime or not.\n",
    "num=int(input(\"Enter any number : \"))\n",
    "flag=1\n",
    "if(num==1):\n",
    "    print(\"Not prime \")\n",
    "else:\n",
    "    for i in range(2,num):\n",
    "        if(num%i==0):\n",
    "            print(\"Not prime\")\n",
    "            flag=0\n",
    "            break\n",
    "    if(flag!=0):\n",
    "        print(\"Prime\")"
   ]
  },
  {
   "cell_type": "code",
   "execution_count": 52,
   "id": "f890b0e4",
   "metadata": {},
   "outputs": [
    {
     "name": "stdout",
     "output_type": "stream",
     "text": [
      "1 1\n",
      "1 2\n",
      "1 3\n",
      "1 4\n",
      "\n",
      "2 1\n",
      "2 2\n",
      "2 3\n",
      "2 4\n",
      "\n",
      "3 1\n",
      "3 2\n",
      "3 3\n",
      "3 4\n",
      "\n",
      "4 1\n",
      "4 2\n",
      "4 3\n",
      "4 4\n",
      "\n"
     ]
    }
   ],
   "source": [
    "#Nested loops\n",
    "for i in range(1,5):\n",
    "    for j in range(1,5):\n",
    "        print(i,j)\n",
    "    print()"
   ]
  },
  {
   "cell_type": "code",
   "execution_count": 54,
   "id": "8587a045",
   "metadata": {},
   "outputs": [
    {
     "name": "stdout",
     "output_type": "stream",
     "text": [
      "17 is prime number\n",
      "19 is prime number\n",
      "23 is prime number\n",
      "29 is prime number\n"
     ]
    }
   ],
   "source": [
    "#WAp to print prime number from 15 to 30\n",
    "for i in range(15,31):\n",
    "    for j in range(2,i):\n",
    "        if(i%j==0):\n",
    "            break\n",
    "    else:\n",
    "        print(i,\"is prime number\")        "
   ]
  },
  {
   "cell_type": "code",
   "execution_count": 56,
   "id": "6f9104fe",
   "metadata": {},
   "outputs": [
    {
     "name": "stdout",
     "output_type": "stream",
     "text": [
      "1 * 1 = 1\n",
      "1 * 2 = 2\n",
      "1 * 3 = 3\n",
      "1 * 4 = 4\n",
      "1 * 5 = 5\n",
      "1 * 6 = 6\n",
      "1 * 7 = 7\n",
      "1 * 8 = 8\n",
      "1 * 9 = 9\n",
      "1 * 10 = 10\n",
      "\n",
      "2 * 1 = 2\n",
      "2 * 2 = 4\n",
      "2 * 3 = 6\n",
      "2 * 4 = 8\n",
      "2 * 5 = 10\n",
      "2 * 6 = 12\n",
      "2 * 7 = 14\n",
      "2 * 8 = 16\n",
      "2 * 9 = 18\n",
      "2 * 10 = 20\n",
      "\n",
      "3 * 1 = 3\n",
      "3 * 2 = 6\n",
      "3 * 3 = 9\n",
      "3 * 4 = 12\n",
      "3 * 5 = 15\n",
      "3 * 6 = 18\n",
      "3 * 7 = 21\n",
      "3 * 8 = 24\n",
      "3 * 9 = 27\n",
      "3 * 10 = 30\n",
      "\n",
      "4 * 1 = 4\n",
      "4 * 2 = 8\n",
      "4 * 3 = 12\n",
      "4 * 4 = 16\n",
      "4 * 5 = 20\n",
      "4 * 6 = 24\n",
      "4 * 7 = 28\n",
      "4 * 8 = 32\n",
      "4 * 9 = 36\n",
      "4 * 10 = 40\n",
      "\n",
      "5 * 1 = 5\n",
      "5 * 2 = 10\n",
      "5 * 3 = 15\n",
      "5 * 4 = 20\n",
      "5 * 5 = 25\n",
      "5 * 6 = 30\n",
      "5 * 7 = 35\n",
      "5 * 8 = 40\n",
      "5 * 9 = 45\n",
      "5 * 10 = 50\n",
      "\n",
      "6 * 1 = 6\n",
      "6 * 2 = 12\n",
      "6 * 3 = 18\n",
      "6 * 4 = 24\n",
      "6 * 5 = 30\n",
      "6 * 6 = 36\n",
      "6 * 7 = 42\n",
      "6 * 8 = 48\n",
      "6 * 9 = 54\n",
      "6 * 10 = 60\n",
      "\n",
      "7 * 1 = 7\n",
      "7 * 2 = 14\n",
      "7 * 3 = 21\n",
      "7 * 4 = 28\n",
      "7 * 5 = 35\n",
      "7 * 6 = 42\n",
      "7 * 7 = 49\n",
      "7 * 8 = 56\n",
      "7 * 9 = 63\n",
      "7 * 10 = 70\n",
      "\n",
      "8 * 1 = 8\n",
      "8 * 2 = 16\n",
      "8 * 3 = 24\n",
      "8 * 4 = 32\n",
      "8 * 5 = 40\n",
      "8 * 6 = 48\n",
      "8 * 7 = 56\n",
      "8 * 8 = 64\n",
      "8 * 9 = 72\n",
      "8 * 10 = 80\n",
      "\n",
      "9 * 1 = 9\n",
      "9 * 2 = 18\n",
      "9 * 3 = 27\n",
      "9 * 4 = 36\n",
      "9 * 5 = 45\n",
      "9 * 6 = 54\n",
      "9 * 7 = 63\n",
      "9 * 8 = 72\n",
      "9 * 9 = 81\n",
      "9 * 10 = 90\n",
      "\n",
      "10 * 1 = 10\n",
      "10 * 2 = 20\n",
      "10 * 3 = 30\n",
      "10 * 4 = 40\n",
      "10 * 5 = 50\n",
      "10 * 6 = 60\n",
      "10 * 7 = 70\n",
      "10 * 8 = 80\n",
      "10 * 9 = 90\n",
      "10 * 10 = 100\n",
      "\n"
     ]
    }
   ],
   "source": [
    "#WAP to print multiplication table of the number from 1 to 10.\n",
    "for i in range(1,11):\n",
    "    for j in range(1,11):\n",
    "        print(i, \"*\" ,j ,\"=\", i*j)\n",
    "    print()"
   ]
  },
  {
   "cell_type": "code",
   "execution_count": 58,
   "id": "0a5f1465",
   "metadata": {},
   "outputs": [
    {
     "name": "stdout",
     "output_type": "stream",
     "text": [
      "* \n",
      "* * \n",
      "* * * \n",
      "* * * * \n"
     ]
    }
   ],
   "source": [
    "#WAP to print the following pattern.\n",
    "for i in range(1,5):\n",
    "    for i in range(1,i+1):\n",
    "        print(\"*\",end=' ')\n",
    "    print()"
   ]
  },
  {
   "cell_type": "code",
   "execution_count": 4,
   "id": "e24bdf39",
   "metadata": {},
   "outputs": [
    {
     "name": "stdout",
     "output_type": "stream",
     "text": [
      "       * \n",
      "      * * \n",
      "     * * * \n",
      "    * * * * \n",
      "   * * * * * \n",
      "  * * * * * * \n",
      " * * * * * * * \n",
      "* * * * * * * * \n"
     ]
    }
   ],
   "source": [
    "#WAP to print pyramid.\n",
    "for i in range(1,9):\n",
    "    for j in range(1,9-i):\n",
    "        print(\" \",end='')\n",
    "    for k in range(1,i+1):\n",
    "        print(\"*\",end=' ')\n",
    "    print()"
   ]
  },
  {
   "cell_type": "code",
   "execution_count": 75,
   "id": "1fed234d",
   "metadata": {},
   "outputs": [
    {
     "name": "stdout",
     "output_type": "stream",
     "text": [
      "hello hello hello hello hello hello hello hello hello hello "
     ]
    }
   ],
   "source": [
    "s,n=0,10\n",
    "while(True):\n",
    "    print(\"hello\",end=' ')\n",
    "    s+=1\n",
    "    if(s==n):\n",
    "        break"
   ]
  },
  {
   "cell_type": "code",
   "execution_count": 82,
   "id": "f2ac92e7",
   "metadata": {},
   "outputs": [
    {
     "name": "stdout",
     "output_type": "stream",
     "text": [
      "welcome to blood donation camp\n",
      "Enter your age : 20\n",
      "Enter your weight : 8\n",
      "you are unde-weight\n"
     ]
    }
   ],
   "source": [
    "print(\"welcome to blood donation camp\")\n",
    "age=int(input(\"Enter your age : \"))\n",
    "if(age>=19):\n",
    "    weight=int(input(\"Enter your weight : \"))\n",
    "    if(weight>=45):\n",
    "        height=int(input(\"Enter your height (in cm) : \"))\n",
    "        if(height>=173):\n",
    "            bg=input(\"Enter your blood group : \")\n",
    "            if(bg=='o+' or bg=='o-' or bg=='b+' or bg=='b-'):\n",
    "                print(\"you are eligible to donate blood\")\n",
    "            else:\n",
    "                print(\"your blood group is not match\")\n",
    "        else:\n",
    "            print(\"you are under height\")\n",
    "    else:\n",
    "        print(\"you are unde-weight\")\n",
    "                \n",
    "else:\n",
    "    print(\"you are under age\")"
   ]
  },
  {
   "cell_type": "code",
   "execution_count": 1,
   "id": "695a1b3c",
   "metadata": {},
   "outputs": [
    {
     "name": "stdout",
     "output_type": "stream",
     "text": [
      "1 \n",
      "1 2 \n",
      "1 2 3 \n",
      "1 2 3 4 \n"
     ]
    }
   ],
   "source": [
    "#WAP to print the following pattern.\n",
    "for i in range(1,5):\n",
    "    for j in range(1,i+1):\n",
    "        print(j,end=' ')\n",
    "    print()"
   ]
  },
  {
   "cell_type": "code",
   "execution_count": 8,
   "id": "c5bcd7de",
   "metadata": {},
   "outputs": [
    {
     "name": "stdout",
     "output_type": "stream",
     "text": [
      "A \n",
      "A B \n",
      "A B C \n",
      "A B C D \n"
     ]
    }
   ],
   "source": [
    "#WAP to print the following pattern.\n",
    "for i in range(1,5):\n",
    "    k=65\n",
    "    for j in range(1,i+1):\n",
    "        print(chr(k),end=' ')\n",
    "        k+=1\n",
    "    print()"
   ]
  },
  {
   "cell_type": "code",
   "execution_count": 12,
   "id": "60d07c6b",
   "metadata": {},
   "outputs": [
    {
     "name": "stdout",
     "output_type": "stream",
     "text": [
      "o\n"
     ]
    }
   ],
   "source": [
    "#STRINGS:\n",
    "s=\"hello\"\n",
    "print(s[4])"
   ]
  },
  {
   "cell_type": "code",
   "execution_count": 13,
   "id": "b2324b83",
   "metadata": {},
   "outputs": [
    {
     "name": "stdout",
     "output_type": "stream",
     "text": [
      "h e l l o "
     ]
    }
   ],
   "source": [
    "s=\"hello\"\n",
    "for i in s:\n",
    "    print(i,end=' ')"
   ]
  },
  {
   "cell_type": "code",
   "execution_count": 14,
   "id": "10c495ec",
   "metadata": {},
   "outputs": [
    {
     "name": "stdout",
     "output_type": "stream",
     "text": [
      "5\n"
     ]
    }
   ],
   "source": [
    "s=\"hello\"\n",
    "print(len(s))    # gives the length"
   ]
  },
  {
   "cell_type": "code",
   "execution_count": 16,
   "id": "5967f594",
   "metadata": {},
   "outputs": [
    {
     "name": "stdout",
     "output_type": "stream",
     "text": [
      "helloworld\n",
      "hellohellohello\n"
     ]
    }
   ],
   "source": [
    "s1=\"hello\"\n",
    "s2=\"world\"\n",
    "print(s1+s2)\n",
    "print(s1*3)"
   ]
  },
  {
   "cell_type": "code",
   "execution_count": 32,
   "id": "2094a0e4",
   "metadata": {},
   "outputs": [
    {
     "name": "stdout",
     "output_type": "stream",
     "text": [
      "ello\n",
      "el\n",
      "hello\n",
      "hlowrd\n"
     ]
    }
   ],
   "source": [
    "#STRING slicing:\n",
    "s=\"hello world\"\n",
    "#variable[strat:stop:<step>]\n",
    "print(s[1:5])\n",
    "print(s[1:5:2])\n",
    "print(s[:5])\n",
    "print(s[::2])"
   ]
  },
  {
   "cell_type": "code",
   "execution_count": 63,
   "id": "eb65fa02",
   "metadata": {},
   "outputs": [
    {
     "name": "stdout",
     "output_type": "stream",
     "text": [
      "olleh\n"
     ]
    }
   ],
   "source": [
    "#reverse the string using slicing.\n",
    "s=\"hello\"\n",
    "k=len(s)\n",
    "'''\n",
    "for i in range(-1,-k-1,-1):\n",
    "    print(s[i],end='')\n",
    "    '''\n",
    "print(s[::-1])"
   ]
  },
  {
   "cell_type": "code",
   "execution_count": 36,
   "id": "fa49b98d",
   "metadata": {},
   "outputs": [
    {
     "name": "stdout",
     "output_type": "stream",
     "text": [
      "Hello world\n",
      "HELLO WORLD\n",
      "False\n",
      "True\n"
     ]
    }
   ],
   "source": [
    "s=\"hello world\"\n",
    "print(s.capitalize())\n",
    "print(s.upper())\n",
    "print(s.isupper())\n",
    "print(s.islower())"
   ]
  },
  {
   "cell_type": "code",
   "execution_count": 37,
   "id": "cbef4455",
   "metadata": {},
   "outputs": [
    {
     "name": "stdout",
     "output_type": "stream",
     "text": [
      "123\n",
      "123\n",
      "False\n",
      "False\n"
     ]
    }
   ],
   "source": [
    "s=\"123\"\n",
    "print(s.capitalize())\n",
    "print(s.upper())\n",
    "print(s.isupper())\n",
    "print(s.islower())"
   ]
  },
  {
   "cell_type": "code",
   "execution_count": 62,
   "id": "9b278761",
   "metadata": {},
   "outputs": [
    {
     "name": "stdout",
     "output_type": "stream",
     "text": [
      "Abc123$%\n",
      "ABC123$%\n",
      "False\n",
      "True\n",
      "False\n",
      "False\n",
      "False\n",
      "False\n",
      "a*b*c*1*2*3*$*%\n",
      "a b c 1 2 3 $ %\n",
      "['abc123$%']\n"
     ]
    }
   ],
   "source": [
    "s=\"abc123$%\"\n",
    "print(s.capitalize())\n",
    "print(s.upper())\n",
    "print(s.isupper())\n",
    "print(s.islower())\n",
    "print(s.isdigit())\n",
    "print(s.isalpha())\n",
    "print(s.isalnum())\n",
    "print(s.isspace())\n",
    "print(\"*\".join(s))\n",
    "print(\" \".join(s))\n",
    "#print(s.split('h'))"
   ]
  },
  {
   "cell_type": "code",
   "execution_count": 54,
   "id": "d3c0ac45",
   "metadata": {},
   "outputs": [
    {
     "name": "stdout",
     "output_type": "stream",
     "text": [
      "Enter string : my name is subhash\n",
      "letter 15 digit 0 speciap character 3\n"
     ]
    }
   ],
   "source": [
    "#WAP to input a string and count the number of letters,digits,and special characters in a string.\n",
    "s=input(\"Enter string : \")\n",
    "ch=dig=sc=0\n",
    "for i in s:\n",
    "    if i.isalpha():\n",
    "        ch+=1\n",
    "    elif i.isdigit():\n",
    "        dig+=1\n",
    "    else:\n",
    "        sc+=1\n",
    "print(\"letter\",ch,\"digit\",dig,\"speciap character\",sc)"
   ]
  },
  {
   "cell_type": "code",
   "execution_count": null,
   "id": "3b70e1d0",
   "metadata": {},
   "outputs": [],
   "source": []
  }
 ],
 "metadata": {
  "kernelspec": {
   "display_name": "Python 3 (ipykernel)",
   "language": "python",
   "name": "python3"
  },
  "language_info": {
   "codemirror_mode": {
    "name": "ipython",
    "version": 3
   },
   "file_extension": ".py",
   "mimetype": "text/x-python",
   "name": "python",
   "nbconvert_exporter": "python",
   "pygments_lexer": "ipython3",
   "version": "3.11.2"
  }
 },
 "nbformat": 4,
 "nbformat_minor": 5
}
