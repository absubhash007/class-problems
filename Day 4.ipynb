{
 "cells": [
  {
   "cell_type": "code",
   "execution_count": 5,
   "id": "2d2c09f5",
   "metadata": {},
   "outputs": [
    {
     "name": "stdout",
     "output_type": "stream",
     "text": [
      "Welcome to college campus drive.\n",
      "Enter your age : 19\n",
      "Enter your exp. year : 5\n",
      "Enter your college name : rit\n",
      "Enter your course : bca\n",
      "Your are eligible\n"
     ]
    }
   ],
   "source": [
    "print(\"Welcome to college campus drive.\")\n",
    "age=int(input(\"Enter your age : \"))\n",
    "if(age>=18):\n",
    "    exp=int(input(\"Enter your exp. year : \"))\n",
    "    if(exp>1):\n",
    "        college=input(\"Enter your college name : \")\n",
    "        if(college=='rce' or college=='rit'):\n",
    "            edu=input(\"Enter your course : \")\n",
    "            if(edu=='b.tech' or edu=='bca' or edu=='mca'):\n",
    "                print(\"Your are eligible\")\n",
    "            else:\n",
    "                print(\"your course is not match\")\n",
    "        else:\n",
    "            print(\"college is not match\")\n",
    "    else:\n",
    "        print(\"Youe exp is below \")\n",
    "else:\n",
    "    print(\"Your age is below 18\")"
   ]
  },
  {
   "cell_type": "code",
   "execution_count": 11,
   "id": "cec0cd82",
   "metadata": {},
   "outputs": [
    {
     "name": "stdout",
     "output_type": "stream",
     "text": [
      "[1, 'a', True, (3+4j), 4.5]\n",
      "(3+4j) (3+4j)\n"
     ]
    }
   ],
   "source": [
    "#list\n",
    "lst=[1,\"a\",True,3+4j,4.5]\n",
    "print(lst)\n",
    "print(lst[3],lst[-2])"
   ]
  },
  {
   "cell_type": "code",
   "execution_count": 12,
   "id": "d109faca",
   "metadata": {},
   "outputs": [
    {
     "name": "stdout",
     "output_type": "stream",
     "text": [
      "[1, 'a', True, (3+4j), 4.5]\n"
     ]
    }
   ],
   "source": [
    "#list\n",
    "lst=list([1,\"a\",True,3+4j,4.5])\n",
    "print(lst)"
   ]
  },
  {
   "cell_type": "code",
   "execution_count": 14,
   "id": "355ab112",
   "metadata": {},
   "outputs": [
    {
     "name": "stdout",
     "output_type": "stream",
     "text": [
      "ENter the list element : [2,\"u\",3+4j,5.9]\n",
      "[2, 'u', (3+4j), 5.9]\n",
      "<class 'complex'>\n"
     ]
    }
   ],
   "source": [
    "#list taking input.\n",
    "lst=eval(input(\"ENter the list element : \"))\n",
    "print(lst)\n",
    "print(type(lst[2]))"
   ]
  },
  {
   "cell_type": "code",
   "execution_count": 18,
   "id": "281c2915",
   "metadata": {},
   "outputs": [
    {
     "name": "stdout",
     "output_type": "stream",
     "text": [
      "[1, 3, 5, True, (4+3j)]\n",
      "[1, 3, 5, 1, 3, 5, 1, 3, 5]\n"
     ]
    }
   ],
   "source": [
    "#join the two list.\n",
    "l1=[1,3,5]\n",
    "l2=[True,4+3j]\n",
    "print(l1+l2)\n",
    "print(l1*3)"
   ]
  },
  {
   "cell_type": "code",
   "execution_count": 20,
   "id": "f6a45a01",
   "metadata": {},
   "outputs": [
    {
     "name": "stdout",
     "output_type": "stream",
     "text": [
      "True\n"
     ]
    }
   ],
   "source": [
    "#comparing list.\n",
    "l1=[\"apple\",\"kiwi\",\"banana\"]\n",
    "l2=[\"apple\",\"watermelon\",\"orange\"]\n",
    "print(l1<l2)   #In this case,list item are compared ascii codes"
   ]
  },
  {
   "cell_type": "code",
   "execution_count": 22,
   "id": "becf6af9",
   "metadata": {},
   "outputs": [
    {
     "name": "stdout",
     "output_type": "stream",
     "text": [
      "1 2 3 4 4\n"
     ]
    }
   ],
   "source": [
    "#Iterating a list.\n",
    "l=[1,2,3,4]\n",
    "print(len(l))\n",
    "for i in l:\n",
    "    print(i,end=' ')"
   ]
  },
  {
   "cell_type": "code",
   "execution_count": 24,
   "id": "d025bc95",
   "metadata": {},
   "outputs": [
    {
     "name": "stdout",
     "output_type": "stream",
     "text": [
      "1 2 3 4 "
     ]
    }
   ],
   "source": [
    "#Iterating a list.\n",
    "l=[1,2,3,4]\n",
    "for i in range(0,len(l)):\n",
    "    print(l[i],end=' ')"
   ]
  },
  {
   "cell_type": "code",
   "execution_count": 26,
   "id": "d60f3bb3",
   "metadata": {},
   "outputs": [
    {
     "name": "stdout",
     "output_type": "stream",
     "text": [
      "Enter the list elements : [1,2,3,4,5,6]\n",
      "6 5 4 3 2 1 "
     ]
    }
   ],
   "source": [
    "#WAP to input a list and print the elements in reverse order.\n",
    "l=eval(input(\"Enter the list elements : \"))\n",
    "for i in range(len(l),0,-1):\n",
    "    print(i,end=' ')"
   ]
  },
  {
   "cell_type": "code",
   "execution_count": 32,
   "id": "9695fb9b",
   "metadata": {},
   "outputs": [
    {
     "name": "stdout",
     "output_type": "stream",
     "text": [
      "[4, True, 'a']\n"
     ]
    }
   ],
   "source": [
    "#Using slicing , fetch elements starating from 4 till a.\n",
    "lst=[1,2,\"a\",True,4]\n",
    "print(lst[-1:-4:-1])"
   ]
  },
  {
   "cell_type": "code",
   "execution_count": 35,
   "id": "5d399443",
   "metadata": {},
   "outputs": [
    {
     "name": "stdout",
     "output_type": "stream",
     "text": [
      "['s', 'u', 'b', 'h', 'a', 's', 'h', '0', '0', '7']\n"
     ]
    }
   ],
   "source": [
    "#Converting string to list.\n",
    "string=\"subhash007\"\n",
    "print(list(string))"
   ]
  },
  {
   "cell_type": "code",
   "execution_count": 36,
   "id": "09722830",
   "metadata": {},
   "outputs": [
    {
     "name": "stdout",
     "output_type": "stream",
     "text": [
      "[1, 'hello', 3, 4.5, True]\n"
     ]
    }
   ],
   "source": [
    "#Updating list elements.\n",
    "lst=[1,2,3,4.5,True]\n",
    "lst[1]=\"hello\"\n",
    "print(lst)"
   ]
  },
  {
   "cell_type": "code",
   "execution_count": 39,
   "id": "12b3d314",
   "metadata": {},
   "outputs": [
    {
     "name": "stdout",
     "output_type": "stream",
     "text": [
      "[1, 2, 3, 'hello', 23]\n"
     ]
    }
   ],
   "source": [
    "#List functions\n",
    "lst=[1,2,3,\"hello\"]\n",
    "lst.append(23) #inserts element at the end of list\n",
    "print(lst)"
   ]
  },
  {
   "cell_type": "code",
   "execution_count": 40,
   "id": "c5816777",
   "metadata": {},
   "outputs": [
    {
     "name": "stdout",
     "output_type": "stream",
     "text": [
      "[1, 2, 3, 'hello', 23, 56, 98, True]\n"
     ]
    }
   ],
   "source": [
    "#List functions\n",
    "lst=[1,2,3,\"hello\"]\n",
    "lst.extend([23,56,98,True]) #inserts multiple element at the end of list\n",
    "print(lst)"
   ]
  },
  {
   "cell_type": "code",
   "execution_count": 48,
   "id": "55aff29b",
   "metadata": {},
   "outputs": [
    {
     "name": "stdout",
     "output_type": "stream",
     "text": [
      "[1, 2, 3]\n"
     ]
    }
   ],
   "source": [
    "#List functions\n",
    "lst=[1,2,3,\"hello\"]\n",
    "del lst[3] #deletes the element at particular index.\n",
    "print(lst)"
   ]
  },
  {
   "cell_type": "code",
   "execution_count": 47,
   "id": "b5010f7e",
   "metadata": {},
   "outputs": [
    {
     "name": "stdout",
     "output_type": "stream",
     "text": [
      "hello\n",
      "[1, 2, 3]\n"
     ]
    }
   ],
   "source": [
    "#List functions\n",
    "lst=[1,2,3,\"hello\"]\n",
    "value=lst.pop()  #returns the deleted element  ---> by defult it take last index\n",
    "print(value)\n",
    "print(lst)"
   ]
  },
  {
   "cell_type": "code",
   "execution_count": 52,
   "id": "b0434037",
   "metadata": {},
   "outputs": [
    {
     "name": "stdout",
     "output_type": "stream",
     "text": [
      "3\n",
      "2\n"
     ]
    }
   ],
   "source": [
    "#List functions\n",
    "lst=[1,2,3,\"hello\",2,2]\n",
    "print(lst.count(2))   #returns the frequency of occurrence of an element\n",
    "print(lst.index(3))  #returns the index of an element"
   ]
  },
  {
   "cell_type": "code",
   "execution_count": 53,
   "id": "c28f46fb",
   "metadata": {},
   "outputs": [
    {
     "name": "stdout",
     "output_type": "stream",
     "text": [
      "[1, 2, 3, 40, 'hello', 2, 2]\n"
     ]
    }
   ],
   "source": [
    "#List functions\n",
    "lst=[1,2,3,\"hello\",2,2]\n",
    "#syntex\n",
    "#lst.insert(index,what u inserted)\n",
    "lst.insert(3,40)  #inserts 40 at index 3.\n",
    "print(lst)"
   ]
  },
  {
   "cell_type": "code",
   "execution_count": 54,
   "id": "8cf7aca7",
   "metadata": {},
   "outputs": [
    {
     "name": "stdout",
     "output_type": "stream",
     "text": [
      "[1, 3, 4, 5, 5, 7, 7, 8]\n"
     ]
    }
   ],
   "source": [
    "#list function.\n",
    "#sort the list\n",
    "lst=[1,3,5,7,8,4,7,5]\n",
    "lst.sort()  #sorts the list in ascending order\n",
    "print(lst)"
   ]
  },
  {
   "cell_type": "code",
   "execution_count": 55,
   "id": "e29836e0",
   "metadata": {},
   "outputs": [
    {
     "name": "stdout",
     "output_type": "stream",
     "text": [
      "[8, 7, 7, 5, 5, 4, 3, 1]\n"
     ]
    }
   ],
   "source": [
    "#list function.\n",
    "#sort the list\n",
    "lst=[1,3,5,7,8,4,7,5]\n",
    "lst.sort(reverse=True) #sorts the list in descending order\n",
    "print(lst)"
   ]
  },
  {
   "cell_type": "code",
   "execution_count": 56,
   "id": "db2622ca",
   "metadata": {},
   "outputs": [
    {
     "name": "stdout",
     "output_type": "stream",
     "text": [
      "[5, 7, 4, 8, 7, 5, 3, 1]\n"
     ]
    }
   ],
   "source": [
    "#list function.\n",
    "lst=[1,3,5,7,8,4,7,5]\n",
    "lst.reverse()  #reverse the list\n",
    "print(lst)"
   ]
  },
  {
   "cell_type": "code",
   "execution_count": 64,
   "id": "c1340fa6",
   "metadata": {},
   "outputs": [
    {
     "name": "stdout",
     "output_type": "stream",
     "text": [
      "Which element do you want to search : [\"hello\"]\n",
      "hello at position 9\n"
     ]
    }
   ],
   "source": [
    "#WAP to search for a element in a list .if the element is found ,print found along with its position otherwise print not found.\n",
    "lst=[1,2,3,4,5,6,7,8,\"hello\",True]\n",
    "lst1=eval(input(\"Which element do you want to search : \"))\n",
    "flag=1\n",
    "for i in range(0,len(lst)):\n",
    "    if(lst[i]==lst1[0]):\n",
    "        print(lst[i],\"at position\",i+1)\n",
    "        flag=0\n",
    "        break\n",
    "if(flag!=0):\n",
    "    print(\"not found\")"
   ]
  },
  {
   "cell_type": "code",
   "execution_count": 72,
   "id": "8d868c98",
   "metadata": {},
   "outputs": [
    {
     "name": "stdout",
     "output_type": "stream",
     "text": [
      "[1, 4, 9, 16, 25, 36, 49, 64, 81]\n"
     ]
    }
   ],
   "source": [
    "#WAP to print the seuare of all the elements of list and then store them into a new list\n",
    "lst1=[1,2,3,4,5,6,7,8,9]\n",
    "lst2=[]\n",
    "for i in lst1:\n",
    "    lst2.append(i**2)\n",
    "print(lst2)"
   ]
  },
  {
   "cell_type": "code",
   "execution_count": 9,
   "id": "e1bab51c",
   "metadata": {},
   "outputs": [
    {
     "name": "stdout",
     "output_type": "stream",
     "text": [
      "Enter starting number : 1\n",
      "Enter stoping number : 30\n",
      "1 is neither prime nor composite\n",
      "2 3 5 7 11 13 17 19 23 29 "
     ]
    }
   ],
   "source": [
    "n1=int(input(\"Enter starting number : \"))\n",
    "n2=int(input(\"Enter stoping number : \"))\n",
    "for i in range(n1,n2+1):\n",
    "    if(i==1):\n",
    "        print(\"1 is neither prime nor composite\")\n",
    "        continue\n",
    "    for j in range(2,i):\n",
    "        if(i%j==0):\n",
    "            break\n",
    "    else:\n",
    "        print(i,end=\" \")"
   ]
  },
  {
   "cell_type": "code",
   "execution_count": 2,
   "id": "2852f1a2",
   "metadata": {},
   "outputs": [
    {
     "name": "stdout",
     "output_type": "stream",
     "text": [
      "False\n",
      "True\n"
     ]
    }
   ],
   "source": [
    "#Membership operator\n",
    "# 1.  in\n",
    "# 2.  not in\n",
    "lst=[1,2,3,4,5,6]\n",
    "print(8 in lst)\n",
    "print(\"hello\" not in lst)"
   ]
  },
  {
   "cell_type": "code",
   "execution_count": 5,
   "id": "17ffba93",
   "metadata": {},
   "outputs": [
    {
     "name": "stdout",
     "output_type": "stream",
     "text": [
      "139972315917440\n",
      "139972315916736\n",
      "False\n",
      "True\n"
     ]
    }
   ],
   "source": [
    "#Identity operator.\n",
    "l1=[1,2,3,4]\n",
    "l2=[1,2,3,4]\n",
    "print(id(l1))\n",
    "print(id(l2))\n",
    "print(l1 is l2)  # id of l1 and are is different\n",
    "print(l1 is not l2)"
   ]
  },
  {
   "cell_type": "code",
   "execution_count": 8,
   "id": "f0d64b07",
   "metadata": {},
   "outputs": [
    {
     "name": "stdout",
     "output_type": "stream",
     "text": [
      "(1, 2, 3, 4, 'hello')\n",
      "(1, 2, 3, 4, 'hello')\n"
     ]
    }
   ],
   "source": [
    "#Tuples\n",
    "t=(1,2,3,4,\"hello\")\n",
    "t1=tuple((1,2,3,4,\"hello\")) # also tuple can be created like this...\n",
    "print(t)\n",
    "print(t1)"
   ]
  },
  {
   "cell_type": "code",
   "execution_count": 9,
   "id": "2c0d931c",
   "metadata": {},
   "outputs": [
    {
     "name": "stdout",
     "output_type": "stream",
     "text": [
      "4\n",
      "1\n"
     ]
    }
   ],
   "source": [
    "t=(1,2,3,4)\n",
    "print(max(t))\n",
    "print(min(t))"
   ]
  },
  {
   "cell_type": "code",
   "execution_count": 10,
   "id": "7fb692a5",
   "metadata": {},
   "outputs": [
    {
     "name": "stdout",
     "output_type": "stream",
     "text": [
      "1 2 hello hi bye\n"
     ]
    }
   ],
   "source": [
    "#Tuple unpacking.\n",
    "a,b,c,d,e=(1,2,\"hello\",\"hi\",\"bye\")\n",
    "print(a,b,c,d,e)"
   ]
  },
  {
   "cell_type": "code",
   "execution_count": 16,
   "id": "2c7b9eab",
   "metadata": {},
   "outputs": [
    {
     "name": "stdout",
     "output_type": "stream",
     "text": [
      "{'apple', 'mango', 'orange'}\n"
     ]
    }
   ],
   "source": [
    "#Sets...\n",
    "fruits={\"mango\",\"apple\",\"orange\",\"orange\"}\n",
    "print(fruits)"
   ]
  },
  {
   "cell_type": "code",
   "execution_count": 17,
   "id": "2168a95c",
   "metadata": {},
   "outputs": [
    {
     "name": "stdout",
     "output_type": "stream",
     "text": [
      "True\n"
     ]
    }
   ],
   "source": [
    "#Sets...\n",
    "fruits={\"mango\",\"apple\",\"orange\",\"orange\"}\n",
    "print(\"mango\" in fruits)"
   ]
  },
  {
   "cell_type": "code",
   "execution_count": 18,
   "id": "b4efc84e",
   "metadata": {},
   "outputs": [
    {
     "name": "stdout",
     "output_type": "stream",
     "text": [
      "apple\n",
      "mango\n",
      "orange\n"
     ]
    }
   ],
   "source": [
    "#Sets...\n",
    "fruits={\"mango\",\"apple\",\"orange\",\"orange\"}\n",
    "for i in fruits:\n",
    "    print(i)"
   ]
  },
  {
   "cell_type": "code",
   "execution_count": 20,
   "id": "9908acc3",
   "metadata": {},
   "outputs": [
    {
     "name": "stdout",
     "output_type": "stream",
     "text": [
      "apple\n",
      "kiwi\n",
      "mango\n",
      "orange\n"
     ]
    }
   ],
   "source": [
    "#Sets...\n",
    "fruits={\"mango\",\"apple\",\"orange\",\"orange\"}\n",
    "fruits.add(\"kiwi\")\n",
    "print(fruits)"
   ]
  },
  {
   "cell_type": "code",
   "execution_count": 22,
   "id": "b566c860",
   "metadata": {},
   "outputs": [
    {
     "name": "stdout",
     "output_type": "stream",
     "text": [
      "{'banana', 'watermelon', 'orange', 'kiwi', 'mango', 'apple'}\n"
     ]
    }
   ],
   "source": [
    "#Sets...\n",
    "fruits={\"mango\",\"apple\",\"orange\",\"orange\"}\n",
    "fruits.update([\"kiwi\",\"banana\",\"watermelon\"])\n",
    "print(fruits)"
   ]
  },
  {
   "cell_type": "code",
   "execution_count": 23,
   "id": "68a59836",
   "metadata": {},
   "outputs": [
    {
     "name": "stdout",
     "output_type": "stream",
     "text": [
      "3\n",
      "set()\n"
     ]
    }
   ],
   "source": [
    "#Sets...\n",
    "fruits={\"mango\",\"apple\",\"orange\",\"orange\"}\n",
    "print(len(fruits))\n",
    "fruits.clear()\n",
    "print(fruits)"
   ]
  },
  {
   "cell_type": "code",
   "execution_count": 27,
   "id": "a3344e87",
   "metadata": {},
   "outputs": [
    {
     "name": "stdout",
     "output_type": "stream",
     "text": [
      "apple\n",
      "{'mango', 'orange'}\n"
     ]
    }
   ],
   "source": [
    "#Sets...\n",
    "fruits={\"mango\",\"apple\",\"orange\",\"orange\"}\n",
    "#fruits.remove(\"mango\")\n",
    "print(fruits.pop())\n",
    "print(fruits)"
   ]
  },
  {
   "cell_type": "code",
   "execution_count": 30,
   "id": "95476e90",
   "metadata": {},
   "outputs": [
    {
     "ename": "NameError",
     "evalue": "name 'fruits' is not defined",
     "output_type": "error",
     "traceback": [
      "\u001b[0;31m---------------------------------------------------------------------------\u001b[0m",
      "\u001b[0;31mNameError\u001b[0m                                 Traceback (most recent call last)",
      "Cell \u001b[0;32mIn [30], line 4\u001b[0m\n\u001b[1;32m      2\u001b[0m fruits\u001b[38;5;241m=\u001b[39m{\u001b[38;5;124m\"\u001b[39m\u001b[38;5;124mmango\u001b[39m\u001b[38;5;124m\"\u001b[39m,\u001b[38;5;124m\"\u001b[39m\u001b[38;5;124mapple\u001b[39m\u001b[38;5;124m\"\u001b[39m,\u001b[38;5;124m\"\u001b[39m\u001b[38;5;124morange\u001b[39m\u001b[38;5;124m\"\u001b[39m,\u001b[38;5;124m\"\u001b[39m\u001b[38;5;124morange\u001b[39m\u001b[38;5;124m\"\u001b[39m}\n\u001b[1;32m      3\u001b[0m \u001b[38;5;28;01mdel\u001b[39;00m fruits\n\u001b[0;32m----> 4\u001b[0m \u001b[38;5;28mprint\u001b[39m(\u001b[43mfruits\u001b[49m)\n",
      "\u001b[0;31mNameError\u001b[0m: name 'fruits' is not defined"
     ]
    }
   ],
   "source": [
    "#Sets...\n",
    "fruits={\"mango\",\"apple\",\"orange\",\"orange\"}\n",
    "del fruits\n",
    "print(fruits)"
   ]
  },
  {
   "cell_type": "code",
   "execution_count": 31,
   "id": "8d36ecf4",
   "metadata": {},
   "outputs": [
    {
     "name": "stdout",
     "output_type": "stream",
     "text": [
      "{'banana', 'mango', 'watermelon', 'orange', 'apple', 'kiwi'}\n"
     ]
    }
   ],
   "source": [
    "#join two sets\n",
    "f1={\"mango\",\"apple\",\"orange\",\"orange\"}\n",
    "f2={\"banana\",\"kiwi\",\"watermelon\"}\n",
    "f3=f1.union(f2)\n",
    "print(f3)"
   ]
  },
  {
   "cell_type": "code",
   "execution_count": 33,
   "id": "71ad12b9",
   "metadata": {},
   "outputs": [
    {
     "name": "stdout",
     "output_type": "stream",
     "text": [
      "{'apple'}\n"
     ]
    }
   ],
   "source": [
    "#intersection of two sets\n",
    "f1={\"mango\",\"apple\",\"orange\",\"orange\"}\n",
    "f2={\"banana\",\"apple\",\"watermelon\"}\n",
    "f3=f1.intersection(f2)\n",
    "print(f3)"
   ]
  },
  {
   "cell_type": "code",
   "execution_count": 34,
   "id": "4d765519",
   "metadata": {},
   "outputs": [
    {
     "name": "stdout",
     "output_type": "stream",
     "text": [
      "True\n"
     ]
    }
   ],
   "source": [
    "#superset\n",
    "set1={1,2,3,4}\n",
    "set2={1,3,4}\n",
    "print(set1.issuperset(set2))"
   ]
  },
  {
   "cell_type": "code",
   "execution_count": 35,
   "id": "c2a27482",
   "metadata": {},
   "outputs": [
    {
     "name": "stdout",
     "output_type": "stream",
     "text": [
      "False\n"
     ]
    }
   ],
   "source": [
    "#super subset\n",
    "set1={1,2,3,4}\n",
    "set2={1,3,4}\n",
    "print(set1.issubset(set2))"
   ]
  },
  {
   "cell_type": "code",
   "execution_count": 36,
   "id": "e93c8c60",
   "metadata": {},
   "outputs": [
    {
     "name": "stdout",
     "output_type": "stream",
     "text": [
      "{1, 2, 3, 4, 5}\n"
     ]
    }
   ],
   "source": [
    "#copy of sets one from other\n",
    "set1={1,2,3,4,5}\n",
    "set2=set1.copy()\n",
    "print(set2)"
   ]
  },
  {
   "cell_type": "code",
   "execution_count": 37,
   "id": "4745511f",
   "metadata": {},
   "outputs": [
    {
     "name": "stdout",
     "output_type": "stream",
     "text": [
      "{1, 2, 4, 5}\n"
     ]
    }
   ],
   "source": [
    "set1={1,2,3,4,5}\n",
    "set2={7,8,9,3}\n",
    "set3=set1.difference(set2)\n",
    "print(set3)"
   ]
  },
  {
   "cell_type": "code",
   "execution_count": 38,
   "id": "0154c234",
   "metadata": {},
   "outputs": [
    {
     "name": "stdout",
     "output_type": "stream",
     "text": [
      "{'a': 1, 'b': 2, 'c': 3}\n"
     ]
    }
   ],
   "source": [
    "#Dictionary\n",
    "d={\"a\":1,\"b\":2,\"c\":3}\n",
    "print(d)"
   ]
  },
  {
   "cell_type": "code",
   "execution_count": 40,
   "id": "002c5a31",
   "metadata": {},
   "outputs": [
    {
     "name": "stdout",
     "output_type": "stream",
     "text": [
      "{'a': 1, 'b': 2, 'c': 3, 12: 'b', 12.3: 23, (1, 2): (1, 2)}\n"
     ]
    }
   ],
   "source": [
    "#Dictionary\n",
    "d={\"a\":1,\"b\":2,\"c\":3,12:\"b\",12.3:23,(1,2):(1,2)}\n",
    "print(d)"
   ]
  },
  {
   "cell_type": "code",
   "execution_count": 41,
   "id": "94ec81cf",
   "metadata": {},
   "outputs": [
    {
     "name": "stdout",
     "output_type": "stream",
     "text": [
      "3\n"
     ]
    }
   ],
   "source": [
    "#Dictionary\n",
    "d={\"a\":1,\"b\":2,\"c\":3,12:\"b\",12.3:23,(1,2):(1,2)}\n",
    "print(d[\"c\"])"
   ]
  },
  {
   "cell_type": "code",
   "execution_count": 42,
   "id": "86659a3b",
   "metadata": {},
   "outputs": [
    {
     "name": "stdout",
     "output_type": "stream",
     "text": [
      "(1, 2)\n"
     ]
    }
   ],
   "source": [
    "#Dictionary\n",
    "d={\"a\":1,\"b\":2,\"c\":3,12:\"b\",12.3:23,(1,2):(1,2)}\n",
    "print(d[(1,2)])"
   ]
  },
  {
   "cell_type": "code",
   "execution_count": 45,
   "id": "7d4ac321",
   "metadata": {},
   "outputs": [
    {
     "name": "stdout",
     "output_type": "stream",
     "text": [
      "[1, 2]\n"
     ]
    }
   ],
   "source": [
    "#Dictionary\n",
    "d={\"a\":1,\"b\":2,\"c\":3,12:\"b\",12.3:23,(1,2):[1,2]}\n",
    "print(d.get((1,2)))"
   ]
  },
  {
   "cell_type": "code",
   "execution_count": 47,
   "id": "ffffbfff",
   "metadata": {},
   "outputs": [
    {
     "name": "stdout",
     "output_type": "stream",
     "text": [
      "a ---> 1\n",
      "b ---> 2\n",
      "c ---> 3\n",
      "12 ---> b\n",
      "12.3 ---> 23\n",
      "(1, 2) ---> [1, 2]\n"
     ]
    }
   ],
   "source": [
    "d={\"a\":1,\"b\":2,\"c\":3,12:\"b\",12.3:23,(1,2):[1,2]}\n",
    "for key in d:\n",
    "    print(key,\"--->\",d[key])"
   ]
  },
  {
   "cell_type": "code",
   "execution_count": 52,
   "id": "566328f7",
   "metadata": {},
   "outputs": [
    {
     "name": "stdout",
     "output_type": "stream",
     "text": [
      "6\n",
      "dict_keys(['a', 'b', 'c', 12, 12.3, (1, 2)])\n",
      "dict_values([1, 2, 3, 'b', 23, [1, 2]])\n"
     ]
    }
   ],
   "source": [
    "#Dictionary functions.\n",
    "d={\"a\":1,\"b\":2,\"c\":3,12:\"b\",12.3:23,(1,2):[1,2]}\n",
    "print(len(d))\n",
    "print(d.keys())\n",
    "print(d.values())"
   ]
  },
  {
   "cell_type": "code",
   "execution_count": 54,
   "id": "650c6fbc",
   "metadata": {},
   "outputs": [
    {
     "name": "stdout",
     "output_type": "stream",
     "text": [
      "{'a': 1, 'b': 2, 'c': 3, 12: 'b', 12.3: 23, (1, 2): [1, 2]}\n",
      "{'a': 1, 'b': 2, 12: 'b', 12.3: 23, (1, 2): [1, 2]}\n"
     ]
    }
   ],
   "source": [
    "#Dictionary functions.\n",
    "d={\"a\":1,\"b\":2,\"c\":3,12:\"b\",12.3:23,(1,2):[1,2]}\n",
    "print(d)\n",
    "del d[\"c\"]\n",
    "print(d)"
   ]
  },
  {
   "cell_type": "code",
   "execution_count": 55,
   "id": "1e10be77",
   "metadata": {},
   "outputs": [
    {
     "name": "stdout",
     "output_type": "stream",
     "text": [
      "2\n",
      "{'a': 1, 'c': 3, 12: 'b', 12.3: 23, (1, 2): [1, 2]}\n"
     ]
    }
   ],
   "source": [
    "#Dictionary functions.\n",
    "d={\"a\":1,\"b\":2,\"c\":3,12:\"b\",12.3:23,(1,2):[1,2]}\n",
    "print(d.pop(\"b\"))\n",
    "print(d)"
   ]
  },
  {
   "cell_type": "code",
   "execution_count": 56,
   "id": "3b682977",
   "metadata": {},
   "outputs": [
    {
     "name": "stdout",
     "output_type": "stream",
     "text": [
      "dict_items([('a', 1), ('b', 2), ('c', 3), (12, 'b'), (12.3, 23), ((1, 2), [1, 2])])\n",
      "{'a': 1, 'b': 2, 'c': 3, 12: 'b', 12.3: 23, (1, 2): [1, 2]}\n"
     ]
    }
   ],
   "source": [
    "#Dictionary functions.\n",
    "d={\"a\":1,\"b\":2,\"c\":3,12:\"b\",12.3:23,(1,2):[1,2]}\n",
    "print(d.items())  #return both key and values pair\n",
    "print(d)"
   ]
  },
  {
   "cell_type": "code",
   "execution_count": 57,
   "id": "5e4dc03c",
   "metadata": {},
   "outputs": [
    {
     "name": "stdout",
     "output_type": "stream",
     "text": [
      "{}\n"
     ]
    }
   ],
   "source": [
    "#Dictionary functions.\n",
    "d={\"a\":1,\"b\":2,\"c\":3,12:\"b\",12.3:23,(1,2):[1,2]}\n",
    "d.clear()  #return empty dictionary\n",
    "print(d)"
   ]
  },
  {
   "cell_type": "code",
   "execution_count": 58,
   "id": "b87d0bf2",
   "metadata": {},
   "outputs": [
    {
     "name": "stdout",
     "output_type": "stream",
     "text": [
      "{'a': 23, 'b': 2, 'c': 4, 'p': 12, 'q': 34}\n"
     ]
    }
   ],
   "source": [
    "#Dictionary functions.\n",
    "d1={\"a\":1,\"b\":2,\"c\":3}\n",
    "d2={\"p\":12,\"q\":34,\"a\":23,\"c\":4}\n",
    "d1.update(d2)\n",
    "print(d1)"
   ]
  },
  {
   "cell_type": "code",
   "execution_count": 63,
   "id": "a7285158",
   "metadata": {},
   "outputs": [
    {
     "name": "stdout",
     "output_type": "stream",
     "text": [
      "Enter key name : b\n",
      "Enter dictionary value : 8\n",
      "{'b': '8'}\n"
     ]
    }
   ],
   "source": [
    "#creat a dictionary by taking key and value as input.\n",
    "d={}\n",
    "key=input(\"Enter key name : \")\n",
    "value=input(\"Enter dictionary value : \")\n",
    "d[key]=value\n",
    "print(d)"
   ]
  },
  {
   "cell_type": "code",
   "execution_count": 68,
   "id": "1d7f1e47",
   "metadata": {},
   "outputs": [
    {
     "name": "stdout",
     "output_type": "stream",
     "text": [
      "Enter name of student : navneet\n",
      "Enter age of student : 75\n",
      "Enter name of student : subhash\n",
      "Enter age of student : 22\n",
      "Enter name of student : shivendra \n",
      "Enter age of student : 90\n",
      "Enter name of student : sakshi\n",
      "Enter age of student : 16\n",
      "Enter name of student : riya\n",
      "Enter age of student : 120\n",
      "{'navneet': '75', 'subhash': '22', 'shivendra ': '90', 'sakshi': '16', 'riya': '120'}\n"
     ]
    }
   ],
   "source": [
    "#WAP to print the names ages of 5 student where are the keys and agages are its values.Take name and age as input.\n",
    "d={}\n",
    "for i in range(1,6):\n",
    "    key=input(\"Enter name of student : \")\n",
    "    value=input(\"Enter age of student : \")\n",
    "    d[key]=value\n",
    "print(d)"
   ]
  },
  {
   "cell_type": "code",
   "execution_count": null,
   "id": "a20ef33f",
   "metadata": {},
   "outputs": [],
   "source": []
  }
 ],
 "metadata": {
  "kernelspec": {
   "display_name": "Python 3 (ipykernel)",
   "language": "python",
   "name": "python3"
  },
  "language_info": {
   "codemirror_mode": {
    "name": "ipython",
    "version": 3
   },
   "file_extension": ".py",
   "mimetype": "text/x-python",
   "name": "python",
   "nbconvert_exporter": "python",
   "pygments_lexer": "ipython3",
   "version": "3.11.2"
  }
 },
 "nbformat": 4,
 "nbformat_minor": 5
}
