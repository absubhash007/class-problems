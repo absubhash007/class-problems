{
 "cells": [
  {
   "cell_type": "code",
   "execution_count": 2,
   "id": "6597346d",
   "metadata": {},
   "outputs": [
    {
     "name": "stdout",
     "output_type": "stream",
     "text": [
      "10\n"
     ]
    }
   ],
   "source": [
    "#oops in python\n",
    "class employee:\n",
    "    def __init__(self):\n",
    "        self.__a=10  #private variable\n",
    "        \n",
    "    def show(self):\n",
    "        print(self.__a)\n",
    "        \n",
    "e=employee()\n",
    "e.show()"
   ]
  },
  {
   "cell_type": "code",
   "execution_count": 3,
   "id": "f576b7c4",
   "metadata": {},
   "outputs": [
    {
     "name": "stdout",
     "output_type": "stream",
     "text": [
      "12\n"
     ]
    }
   ],
   "source": [
    "class employee:\n",
    "    def __init__(self):\n",
    "        self.__a=10  #private variable\n",
    "        \n",
    "    def __change(self):\n",
    "        self.__a=12\n",
    "        return self.__a\n",
    "        \n",
    "    def show(self):\n",
    "        print(self.__change())\n",
    "        \n",
    "e=employee()\n",
    "e.show()"
   ]
  },
  {
   "cell_type": "code",
   "execution_count": 6,
   "id": "4a997af7",
   "metadata": {},
   "outputs": [
    {
     "name": "stdout",
     "output_type": "stream",
     "text": [
      "100\n",
      "452.16\n"
     ]
    }
   ],
   "source": [
    "#oops --> polymorphism\n",
    "class shape:\n",
    "    def calc(self):\n",
    "        self.a=10\n",
    "        print(self.a**2)\n",
    "        \n",
    "class circle(shape):\n",
    "    def calc(self):\n",
    "        super().calc() #calling parent class method\n",
    "        self.r=12\n",
    "        print(3.14*self.r**2)\n",
    "        \n",
    "c=circle()\n",
    "c.calc()"
   ]
  },
  {
   "cell_type": "code",
   "execution_count": 12,
   "id": "f9e6bb44",
   "metadata": {},
   "outputs": [
    {
     "name": "stdout",
     "output_type": "stream",
     "text": [
      "25\n",
      "100\n",
      "200\n",
      "Invalid\n"
     ]
    }
   ],
   "source": [
    "#oops ---> method overloading\n",
    "class calculator:\n",
    "    def calc(self,a=None,b=None):\n",
    "        if(a is not None and b is None):\n",
    "            print(a**2)\n",
    "        elif(a is None and b is not None):\n",
    "            print(b**2)\n",
    "        elif(a is not None and b is not None):\n",
    "            print(a*b)\n",
    "        else:\n",
    "            print(\"Invalid\")\n",
    "            \n",
    "c=calculator()\n",
    "c.calc(5)\n",
    "c.calc(None,10)\n",
    "c.calc(10,20)\n",
    "c.calc()"
   ]
  },
  {
   "cell_type": "code",
   "execution_count": 21,
   "id": "221da1a2",
   "metadata": {},
   "outputs": [
    {
     "name": "stdout",
     "output_type": "stream",
     "text": [
      "Subhash\n",
      "Programmer constructor\n"
     ]
    }
   ],
   "source": [
    "class employee:\n",
    "    def __init__(self,name):\n",
    "        print(name)\n",
    "        \n",
    "class programmer(employee):\n",
    "    def __init__(self):\n",
    "        super().__init__(\"Subhash\")\n",
    "        print(\"Programmer constructor\")\n",
    "        \n",
    "p=programmer()"
   ]
  },
  {
   "cell_type": "code",
   "execution_count": 26,
   "id": "3b01ca46",
   "metadata": {},
   "outputs": [
    {
     "name": "stdout",
     "output_type": "stream",
     "text": [
      "john\n",
      "Subhash\n",
      "Programmer constructor\n"
     ]
    }
   ],
   "source": [
    "class employee:\n",
    "    def __init__(self,name):\n",
    "        print(name)\n",
    "        \n",
    "class worker:\n",
    "    def __init__(self,name):\n",
    "        print(name)\n",
    "        \n",
    "class programmer(employee):\n",
    "    def __init__(self):\n",
    "        #super().__init__(\"john1\")\n",
    "        #super().__init__(\"Subhash\")\n",
    "        employee.__init__(self,\"john\")\n",
    "        worker.__init__(self,\"Subhash\")\n",
    "        print(\"Programmer constructor\")\n",
    "        \n",
    "p=programmer()"
   ]
  },
  {
   "cell_type": "code",
   "execution_count": 29,
   "id": "3a1a9d7b",
   "metadata": {},
   "outputs": [
    {
     "name": "stdout",
     "output_type": "stream",
     "text": [
      "This is parent method\n",
      "This is child method\n",
      "Welcome\n"
     ]
    }
   ],
   "source": [
    "#Abstraction\n",
    "from abc import ABC,abstractmethod\n",
    "\n",
    "class Demo(ABC):\n",
    "    @abstractmethod\n",
    "    def show(self):\n",
    "        pass\n",
    "    def disp(self):\n",
    "        print(\"Welcome\")\n",
    "    \n",
    "class child(Demo):\n",
    "    def display(self):\n",
    "        print(\"This is child method\")\n",
    "    def show(self):\n",
    "        print(\"This is parent method\")\n",
    "        \n",
    "c=child()\n",
    "c.show()\n",
    "c.display()\n",
    "c.disp()"
   ]
  },
  {
   "cell_type": "code",
   "execution_count": 31,
   "id": "bb74e08a",
   "metadata": {},
   "outputs": [
    {
     "name": "stdout",
     "output_type": "stream",
     "text": [
      "21000\n"
     ]
    }
   ],
   "source": [
    "#Write a python program to create an abstract class BankAccount with abstract methods \n",
    "#deposit() and withdraw(). Create subclasses: SavingsAccount and CurrentAccount that \n",
    "#extend the BankAccount class and implement the respective methods to handle deposits \n",
    "#and withdrawals for each account type.\n",
    "from abc import ABC,abstractmethod\n",
    "\n",
    "class bankaccount:\n",
    "    def __init__(self,balance):\n",
    "        self.balance=balance\n",
    "    @abstractmethod\n",
    "    def deposit(self):\n",
    "        pass\n",
    "    @abstractmethod\n",
    "    def withdraw(self):\n",
    "        pass\n",
    "    \n",
    "class savingaccount(bankaccount):\n",
    "    def deposit(self,amt):\n",
    "        self.balance+=amt\n",
    "    def withdeaw(self,amt):\n",
    "        if self.balance<amt:\n",
    "            print(\"Insufficient balance\")\n",
    "        else:\n",
    "            self.balance-=amt\n",
    "            \n",
    "class currentaccount(bankaccount):\n",
    "    def deposit(self,amt):\n",
    "        self.balance+=amt\n",
    "    def withdeaw(self,amt):\n",
    "        if self.balance<amt:\n",
    "            print(\"Insufficient balance\")\n",
    "        else:\n",
    "            self.balance-=amt\n",
    "            \n",
    "c=currentaccount(20000)\n",
    "s=savingaccount(20000)\n",
    "c.deposit(1000)\n",
    "print(c.balance)"
   ]
  },
  {
   "cell_type": "code",
   "execution_count": 52,
   "id": "0a59a7f2",
   "metadata": {},
   "outputs": [
    {
     "name": "stdout",
     "output_type": "stream",
     "text": [
      "25\n",
      "20\n",
      "25\n",
      "20\n"
     ]
    }
   ],
   "source": [
    "#Create a class named 'Rectangle' with two data members 'length' and 'breadth' and \n",
    "#two methods to print the area and perimeter of the rectangle respectively. \n",
    "#Its constructor having parameters for length and breadth is used to initialize length and \n",
    "#breadth of the rectangle. Let class 'Square' inherit the 'Rectangle' class with its \n",
    "#constructor having a parameter for its side (suppose s) calling the constructor of its \n",
    "#parent class as 'super(s,s)'. Print the area and perimeter of a rectangle and a square.\n",
    "class Rectangle:\n",
    "    def __init__(self,l,b):\n",
    "        self.l=l\n",
    "        self.b=b\n",
    "        \n",
    "    def area(self):\n",
    "        return self.l*self.b\n",
    "    def perimeter1(self):\n",
    "        return 2*(self.l+self.b)\n",
    "    \n",
    "class Square(Rectangle):\n",
    "    def __init__(self,s):\n",
    "        self.s=s\n",
    "        super().__init__(s,s)\n",
    "    def area1(self):\n",
    "        return self.s*self.s\n",
    "    def perimeter2(self):\n",
    "        return 4*self.s\n",
    "s=Square(5)\n",
    "print(s.area())\n",
    "print(s.perimeter1())\n",
    "print(s.area1())\n",
    "print(s.perimeter2())"
   ]
  },
  {
   "cell_type": "code",
   "execution_count": null,
   "id": "6bfca48b",
   "metadata": {},
   "outputs": [],
   "source": [
    "#Design a  Shape class having two methods. Create Rectangle and Triangle classes by\n",
    "#inheriting the shape class and override the above methods to suitably implement for\n",
    "#Rectangle and Triangle class.\n",
    "class shape:\n",
    "    "
   ]
  },
  {
   "cell_type": "code",
   "execution_count": 2,
   "id": "d05c8501",
   "metadata": {},
   "outputs": [
    {
     "name": "stdout",
     "output_type": "stream",
     "text": [
      "This is a vehicle class\n",
      "registration number is  1234\n",
      "speed is  100\n",
      "color is  red\n",
      "owner name is  john the Don\n",
      "None\n"
     ]
    }
   ],
   "source": [
    "#Write a program to create a class named Vehicle having variables\n",
    "#regnNumber, speed, color, ownerName and a method showData ( ) to show “This is a\n",
    "#vehicle class”. Inherit the Vehicle class into subclasses named Bus and Car having\n",
    "#individual private instance variables routeNumber in Bus and manufacturerName in Car\n",
    "#and both of them having showData ( ) method showing all details of Bus and Car\n",
    "#respectively with content of the super class’s showData ( ) method.\n",
    "class vehicle:\n",
    "    def __init__(self,rn,s,c,on):\n",
    "        self.rn=rn\n",
    "        self.s=s\n",
    "        self.c=c\n",
    "        self.on=on\n",
    "    def showdata(self):\n",
    "        print(\"This is a vehicle class\")\n",
    "        print(\"registration number is \",self.rn)\n",
    "        print(\"speed is \",self.s)\n",
    "        print(\"color is \",self.c)\n",
    "        print(\"owner name is \",self.on)\n",
    "        \n",
    "class bus(vehicle):\n",
    "    def __init__(self,rn,s,c,on,routenumber):\n",
    "        super().__init__(rn,s,c,on)\n",
    "        self.routenumber=190\n",
    "    def showdata(self):\n",
    "        super().showdata()\n",
    "        print(\"routenumber\",self.routenumber)\n",
    "        \n",
    "class car(vehicle):\n",
    "    def __init__(self,rn,s,c,on,mnuf):\n",
    "        super().__init__(rn,s,c,on)\n",
    "        self.mnuf=195\n",
    "    def showdata(self):\n",
    "        super().showdata()\n",
    "        print(\"manufacturing is \",self.mnuf)\n",
    "v=vehicle(1234,100,\"red\",\"john the Don\")\n",
    "print(v.showdata())\n",
    "\n",
    "            "
   ]
  },
  {
   "cell_type": "code",
   "execution_count": 18,
   "id": "13a3e829",
   "metadata": {},
   "outputs": [],
   "source": [
    "#Tkinter\n",
    "import tkinter\n",
    "root=tkinter.Tk()\n",
    "root.geometry(\"500x500\")\n",
    "root.title(\"my app\")\n",
    "l=tkinter.Label(text=\"Enter Name\")\n",
    "l.place(x=50,y=60)\n",
    "#l.grid(row=3,column=4)\n",
    "#l.pack(side=\"right\")\n",
    "root.mainloop()"
   ]
  },
  {
   "cell_type": "code",
   "execution_count": 4,
   "id": "10f89d2d",
   "metadata": {},
   "outputs": [],
   "source": [
    "import tkinter\n",
    "from tkinter import messagebox\n",
    "from tkinter import ttk\n",
    "def demo():\n",
    "    #data=e.get()\n",
    "    #messagebox.showinfo(\"Result\",data)\n",
    "    #l2.config(text=data)\n",
    "    #e.delete(0,'end')\n",
    "    data=combo.get()\n",
    "    l2.config(text=data)\n",
    "root=tkinter.Tk() #creating window\n",
    "root.geometry(\"500x500\")  #giving size to the window\n",
    "root.title(\"my app\")\n",
    "root.configure (background=\"pink\") #window colour\n",
    "l=tkinter.Label(root,text=\"Enter Name\",font=('Arial',10),foreground=\"black\",background=\"white\")\n",
    "e=tkinter.Entry(root)\n",
    "b=tkinter.Button(root,text=\"click\",command=demo) #add enter or click button\n",
    "l2=tkinter.Label(root)\n",
    "combo=ttk.Combobox(root,values=[\"option1\",\"option2\",\"option3\"])\n",
    "l.place(x=50,y=60) # x&y coordinates\n",
    "e.place(x=150,y=60)\n",
    "b.place(x=150,y=100) #coordinate button\n",
    "l2.place(x=150,y=150)\n",
    "combo.place(x=150,y=200)\n",
    "root.mainloop()"
   ]
  },
  {
   "cell_type": "code",
   "execution_count": 8,
   "id": "a28f8c8c",
   "metadata": {},
   "outputs": [
    {
     "data": {
      "text/plain": [
       "array(27)"
      ]
     },
     "execution_count": 8,
     "metadata": {},
     "output_type": "execute_result"
    }
   ],
   "source": [
    "import numpy as np\n",
    "a=np.array(27)\n",
    "a"
   ]
  },
  {
   "cell_type": "code",
   "execution_count": 9,
   "id": "d5cbf46a",
   "metadata": {},
   "outputs": [
    {
     "data": {
      "text/plain": [
       "()"
      ]
     },
     "execution_count": 9,
     "metadata": {},
     "output_type": "execute_result"
    }
   ],
   "source": [
    "a.shape"
   ]
  },
  {
   "cell_type": "code",
   "execution_count": 10,
   "id": "329718b1",
   "metadata": {},
   "outputs": [
    {
     "data": {
      "text/plain": [
       "(8,)"
      ]
     },
     "execution_count": 10,
     "metadata": {},
     "output_type": "execute_result"
    }
   ],
   "source": [
    "import numpy as np\n",
    "b=np.array([1,2,3,4,5,6,7,8])\n",
    "b.shape"
   ]
  },
  {
   "cell_type": "code",
   "execution_count": 11,
   "id": "b1bdfdda",
   "metadata": {},
   "outputs": [
    {
     "data": {
      "text/plain": [
       "array([[1, 2, 3],\n",
       "       [4, 5, 6],\n",
       "       [7, 8, 9]])"
      ]
     },
     "execution_count": 11,
     "metadata": {},
     "output_type": "execute_result"
    }
   ],
   "source": [
    "import numpy as np\n",
    "c=np.array([[1,2,3],[4,5,6],[7,8,9]])\n",
    "c"
   ]
  },
  {
   "cell_type": "code",
   "execution_count": 12,
   "id": "412e4613",
   "metadata": {},
   "outputs": [
    {
     "data": {
      "text/plain": [
       "(3, 3)"
      ]
     },
     "execution_count": 12,
     "metadata": {},
     "output_type": "execute_result"
    }
   ],
   "source": [
    "c.shape"
   ]
  },
  {
   "cell_type": "code",
   "execution_count": null,
   "id": "273a3332",
   "metadata": {},
   "outputs": [],
   "source": []
  }
 ],
 "metadata": {
  "kernelspec": {
   "display_name": "Python 3 (ipykernel)",
   "language": "python",
   "name": "python3"
  },
  "language_info": {
   "codemirror_mode": {
    "name": "ipython",
    "version": 3
   },
   "file_extension": ".py",
   "mimetype": "text/x-python",
   "name": "python",
   "nbconvert_exporter": "python",
   "pygments_lexer": "ipython3",
   "version": "3.11.2"
  }
 },
 "nbformat": 4,
 "nbformat_minor": 5
}
