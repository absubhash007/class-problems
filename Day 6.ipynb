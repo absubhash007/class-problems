{
 "cells": [
  {
   "cell_type": "code",
   "execution_count": 1,
   "id": "787274a5",
   "metadata": {},
   "outputs": [
    {
     "name": "stdout",
     "output_type": "stream",
     "text": [
      "Enter first number : 100\n",
      "Enter second number : 120\n",
      "20\n"
     ]
    }
   ],
   "source": [
    "#Find gcd/hcf of two number using recursion.\n",
    "def gcd(a,b):\n",
    "    if(b==0):\n",
    "        return a\n",
    "    else:\n",
    "        return gcd(b,a%b)\n",
    "n1=int(input(\"Enter first number : \"))\n",
    "n2=int(input(\"Enter second number : \"))\n",
    "k=gcd(n1,n2)\n",
    "print(k)"
   ]
  },
  {
   "cell_type": "code",
   "execution_count": 12,
   "id": "eb9bebe1",
   "metadata": {},
   "outputs": [
    {
     "name": "stdout",
     "output_type": "stream",
     "text": [
      "Exists\n"
     ]
    }
   ],
   "source": [
    "#File handeling\n",
    "#open file\n",
    "file=open(\"/home/kali/Documents/Bluetooth enable sudo.txt\")\n",
    "if(file):\n",
    "    print(\"Exists\")\n",
    "else:\n",
    "    print(\"does not exists\")"
   ]
  },
  {
   "cell_type": "code",
   "execution_count": 23,
   "id": "70722718",
   "metadata": {},
   "outputs": [
    {
     "name": "stdout",
     "output_type": "stream",
     "text": [
      "hi my name is subhash kumar\n",
      "i am from vaishali bihar\n",
      "\n",
      "sudo /etc/init.d/bluetooth start\n",
      "\n"
     ]
    }
   ],
   "source": [
    "#File handeling\n",
    "#read file\n",
    "file=open(\"/home/kali/Documents/Bluetooth enable sudo.txt\",\"r\")\n",
    "print(file.read())"
   ]
  },
  {
   "cell_type": "code",
   "execution_count": 29,
   "id": "32f23782",
   "metadata": {},
   "outputs": [
    {
     "name": "stdout",
     "output_type": "stream",
     "text": [
      "sudo /etc/init.d/bluetooth start\n"
     ]
    }
   ],
   "source": [
    "#File handeling\n",
    "#read only one line file\n",
    "file=open(\"/home/kali/Documents/Bluetooth enable sudo.txt\",\"r\")\n",
    "print(file.readline())"
   ]
  },
  {
   "cell_type": "code",
   "execution_count": 24,
   "id": "e677843e",
   "metadata": {},
   "outputs": [
    {
     "name": "stdout",
     "output_type": "stream",
     "text": [
      "['hi my name is subhash kumar\\n', 'i am from vaishali bihar\\n', '\\n', 'sudo /etc/init.d/bluetooth start\\n']\n"
     ]
    }
   ],
   "source": [
    "#File handeling\n",
    "#read only one line file\n",
    "file=open(\"/home/kali/Documents/Bluetooth enable sudo.txt\",\"r\")\n",
    "print(file.readlines())"
   ]
  },
  {
   "cell_type": "code",
   "execution_count": 25,
   "id": "8d158ac7",
   "metadata": {},
   "outputs": [
    {
     "name": "stdout",
     "output_type": "stream",
     "text": [
      "hi my name is subhash kumar\n",
      "\n",
      "i am from vaishali bihar\n",
      "\n"
     ]
    }
   ],
   "source": [
    "#File handeling\n",
    "#read only one line file\n",
    "file=open(\"/home/kali/Documents/Bluetooth enable sudo.txt\",\"r\")\n",
    "print(file.readline())\n",
    "print(file.readline())"
   ]
  },
  {
   "cell_type": "code",
   "execution_count": 27,
   "id": "2e571de8",
   "metadata": {},
   "outputs": [
    {
     "name": "stdout",
     "output_type": "stream",
     "text": [
      "hi my name is subhash kumar\n"
     ]
    }
   ],
   "source": [
    "#read file\n",
    "file=open(\"/home/kali/Documents/Bluetooth enable sudo.txt\",\"r\")\n",
    "for i in file.readline():\n",
    "    print(i,end='')"
   ]
  },
  {
   "cell_type": "code",
   "execution_count": 30,
   "id": "c7b065b4",
   "metadata": {},
   "outputs": [],
   "source": [
    "#write file\n",
    "file=open(\"/home/kali/Documents/Bluetooth enable sudo.txt\",\"w\")\n",
    "file.write(\"sudo /etc/init.d/bluetooth start\")\n",
    "file.close()"
   ]
  },
  {
   "cell_type": "code",
   "execution_count": 44,
   "id": "8943d8ea",
   "metadata": {},
   "outputs": [
    {
     "name": "stdout",
     "output_type": "stream",
     "text": [
      "Enter name of student : r\n",
      "Enter marks of student : 50\n",
      "Enter name of student : s\n",
      "Enter marks of student : 60\n",
      "Enter name of student : m\n",
      "Enter marks of student : 70\n"
     ]
    }
   ],
   "source": [
    "#WAP to input the name of three students and write it to a file\n",
    "file=open(\"/home/kali/Documents/Bluetooth enable sudo.txt\",\"w\")\n",
    "for i in range(1,4):\n",
    "    name=input(\"Enter name of student : \")\n",
    "    marks=int(input(\"Enter marks of student : \"))\n",
    "    file.write(name+\" \"+str(marks)+\"\\n\")\n",
    "file.close()"
   ]
  },
  {
   "cell_type": "code",
   "execution_count": 115,
   "id": "c80529a3",
   "metadata": {},
   "outputs": [
    {
     "name": "stdout",
     "output_type": "stream",
     "text": [
      "Enter name of student : ac\n",
      "Enter marks of student : 60\n",
      "Enter name of student : b\n",
      "Enter marks of student : 80\n",
      "Enter name of student : d\n",
      "Enter marks of student : 75\n"
     ]
    }
   ],
   "source": [
    "file=open(\"/home/kali/Documents/new.txt\",\"w\")\n",
    "for i in range(1,4):\n",
    "    name=input(\"Enter name of student : \")\n",
    "    marks=int(input(\"Enter marks of student : \"))\n",
    "    file.write(name+\" \"+str(marks)+\"\\n\")\n",
    "file.close()"
   ]
  },
  {
   "cell_type": "code",
   "execution_count": 46,
   "id": "317f5093",
   "metadata": {},
   "outputs": [],
   "source": [
    "import os\n",
    "os.remove(\"/home/kali/Documents/new.txt\")"
   ]
  },
  {
   "cell_type": "code",
   "execution_count": 55,
   "id": "a0a562f2",
   "metadata": {},
   "outputs": [
    {
     "name": "stdout",
     "output_type": "stream",
     "text": [
      "Enter name of student : hrgh\n",
      "Enter marks of student : 6456\n",
      "Enter name of student : fhth\n",
      "Enter marks of student : 767\n",
      "Enter name of student : bgfg\n",
      "Enter marks of student : 45\n"
     ]
    }
   ],
   "source": [
    "file=open(\"/home/kali/Documents/Bluetooth enable sudo.txt\",\"a\")\n",
    "for i in range(1,4):\n",
    "    name=input(\"Enter name of student : \")\n",
    "    marks=int(input(\"Enter marks of student : \"))\n",
    "    file.write(name+\" \"+str(marks)+\"\\n\")\n",
    "file.close()"
   ]
  },
  {
   "cell_type": "code",
   "execution_count": 60,
   "id": "c1536115",
   "metadata": {},
   "outputs": [
    {
     "data": {
      "text/plain": [
       "2"
      ]
     },
     "execution_count": 60,
     "metadata": {},
     "output_type": "execute_result"
    }
   ],
   "source": [
    "import os\n",
    "file=open(\"/home/kali/Documents/Bluetooth enable sudo.txt\",\"r+\")\n",
    "file.seek(2)\n",
    "file.truncate()"
   ]
  },
  {
   "cell_type": "code",
   "execution_count": 63,
   "id": "b588c7d1",
   "metadata": {},
   "outputs": [
    {
     "name": "stdout",
     "output_type": "stream",
     "text": [
      "0\n",
      "gh\n",
      "\n",
      "13\n"
     ]
    }
   ],
   "source": [
    "file=open(\"/home/kali/Documents/Bluetooth enable sudo.txt\")\n",
    "print(file.tell())\n",
    "file.seek(10)\n",
    "print(file.read())\n",
    "print(file.tell())"
   ]
  },
  {
   "cell_type": "code",
   "execution_count": 86,
   "id": "c504a8ab",
   "metadata": {},
   "outputs": [
    {
     "name": "stdout",
     "output_type": "stream",
     "text": [
      "hr\n",
      "gjjh\n",
      "lkgh\n",
      "aheivvo\n",
      "o\n",
      "\n",
      "\n"
     ]
    }
   ],
   "source": [
    "#Another way of opening a file\n",
    "with open(\"/home/kali/Documents/Bluetooth enable sudo.txt\",\"r\") as f:\n",
    "    print(f.read())"
   ]
  },
  {
   "cell_type": "code",
   "execution_count": 87,
   "id": "2ba37663",
   "metadata": {},
   "outputs": [
    {
     "name": "stdout",
     "output_type": "stream",
     "text": [
      "a\n",
      "e\n",
      "i\n",
      "o\n",
      "o\n"
     ]
    }
   ],
   "source": [
    "#WAP to read all the vowels from a text file.\n",
    "file=open(\"/home/kali/Documents/Bluetooth enable sudo.txt\",\"r\")\n",
    "for i in file.read():\n",
    "    if(i=='a' or i=='e' or i=='i' or i=='o' or i=='u'):\n",
    "        print(i)"
   ]
  },
  {
   "cell_type": "code",
   "execution_count": 107,
   "id": "67e40fd4",
   "metadata": {},
   "outputs": [
    {
     "name": "stdout",
     "output_type": "stream",
     "text": [
      "aheivvo\n",
      "\n",
      "abcd\n",
      "\n"
     ]
    }
   ],
   "source": [
    "#WAP to print only those lines from the file which starts with 'A'\n",
    "file=open(\"/home/kali/Documents/Bluetooth enable sudo.txt\",\"r\")\n",
    "for i in file.readlines():\n",
    "    if(i[0]=='a'):\n",
    "        print(i)\n",
    "        "
   ]
  },
  {
   "cell_type": "code",
   "execution_count": 113,
   "id": "8da74d19",
   "metadata": {},
   "outputs": [
    {
     "data": {
      "text/plain": [
       "24"
      ]
     },
     "execution_count": 113,
     "metadata": {},
     "output_type": "execute_result"
    }
   ],
   "source": [
    "#WAP to write a list to the file.\n",
    "file=open(\"/home/kali/Documents/Bluetooth enable sudo.txt\",\"w\")\n",
    "lst=[1,2,3,4,5,6,7,8]\n",
    "file.write(str(lst))"
   ]
  },
  {
   "cell_type": "code",
   "execution_count": 127,
   "id": "2f9010a0",
   "metadata": {},
   "outputs": [
    {
     "ename": "TypeError",
     "evalue": "stat: path should be string, bytes, os.PathLike or integer, not TextIOWrapper",
     "output_type": "error",
     "traceback": [
      "\u001b[0;31m---------------------------------------------------------------------------\u001b[0m",
      "\u001b[0;31mTypeError\u001b[0m                                 Traceback (most recent call last)",
      "Cell \u001b[0;32mIn [127], line 6\u001b[0m\n\u001b[1;32m      4\u001b[0m file\u001b[38;5;241m=\u001b[39m\u001b[38;5;28mopen\u001b[39m(\u001b[38;5;124m\"\u001b[39m\u001b[38;5;124m/home/kali/Documents/Bluetooth enable sudo.txt\u001b[39m\u001b[38;5;124m\"\u001b[39m)\n\u001b[1;32m      5\u001b[0m file1\u001b[38;5;241m=\u001b[39m\u001b[38;5;28mopen\u001b[39m(\u001b[38;5;124m\"\u001b[39m\u001b[38;5;124m/home/kali/Documents/new.txt\u001b[39m\u001b[38;5;124m\"\u001b[39m)\n\u001b[0;32m----> 6\u001b[0m \u001b[43mshutil\u001b[49m\u001b[38;5;241;43m.\u001b[39;49m\u001b[43mcopy\u001b[49m\u001b[43m(\u001b[49m\u001b[43mfile\u001b[49m\u001b[43m,\u001b[49m\u001b[43mfile1\u001b[49m\u001b[43m)\u001b[49m\n\u001b[1;32m      7\u001b[0m \u001b[38;5;28mprint\u001b[39m(file)\n",
      "File \u001b[0;32m/usr/lib/python3.11/shutil.py:417\u001b[0m, in \u001b[0;36mcopy\u001b[0;34m(src, dst, follow_symlinks)\u001b[0m\n\u001b[1;32m    405\u001b[0m \u001b[38;5;28;01mdef\u001b[39;00m \u001b[38;5;21mcopy\u001b[39m(src, dst, \u001b[38;5;241m*\u001b[39m, follow_symlinks\u001b[38;5;241m=\u001b[39m\u001b[38;5;28;01mTrue\u001b[39;00m):\n\u001b[1;32m    406\u001b[0m \u001b[38;5;250m    \u001b[39m\u001b[38;5;124;03m\"\"\"Copy data and mode bits (\"cp src dst\"). Return the file's destination.\u001b[39;00m\n\u001b[1;32m    407\u001b[0m \n\u001b[1;32m    408\u001b[0m \u001b[38;5;124;03m    The destination may be a directory.\u001b[39;00m\n\u001b[0;32m   (...)\u001b[0m\n\u001b[1;32m    415\u001b[0m \n\u001b[1;32m    416\u001b[0m \u001b[38;5;124;03m    \"\"\"\u001b[39;00m\n\u001b[0;32m--> 417\u001b[0m     \u001b[38;5;28;01mif\u001b[39;00m \u001b[43mos\u001b[49m\u001b[38;5;241;43m.\u001b[39;49m\u001b[43mpath\u001b[49m\u001b[38;5;241;43m.\u001b[39;49m\u001b[43misdir\u001b[49m\u001b[43m(\u001b[49m\u001b[43mdst\u001b[49m\u001b[43m)\u001b[49m:\n\u001b[1;32m    418\u001b[0m         dst \u001b[38;5;241m=\u001b[39m os\u001b[38;5;241m.\u001b[39mpath\u001b[38;5;241m.\u001b[39mjoin(dst, os\u001b[38;5;241m.\u001b[39mpath\u001b[38;5;241m.\u001b[39mbasename(src))\n\u001b[1;32m    419\u001b[0m     copyfile(src, dst, follow_symlinks\u001b[38;5;241m=\u001b[39mfollow_symlinks)\n",
      "File \u001b[0;32m<frozen genericpath>:42\u001b[0m, in \u001b[0;36misdir\u001b[0;34m(s)\u001b[0m\n",
      "\u001b[0;31mTypeError\u001b[0m: stat: path should be string, bytes, os.PathLike or integer, not TextIOWrapper"
     ]
    }
   ],
   "source": [
    "#WAP to copy the contents of a file to another file.\n",
    "import os\n",
    "import shutil\n",
    "file=open(\"/home/kali/Documents/Bluetooth enable sudo.txt\")\n",
    "file1=open(\"/home/kali/Documents/new.txt\")\n",
    "shutil.copy(file,file1)\n",
    "print(file)\n"
   ]
  },
  {
   "cell_type": "code",
   "execution_count": 128,
   "id": "37bab2e4",
   "metadata": {},
   "outputs": [
    {
     "data": {
      "text/plain": [
       "80"
      ]
     },
     "execution_count": 128,
     "metadata": {},
     "output_type": "execute_result"
    }
   ],
   "source": [
    "file=open(\"/home/kali/Desktop/intro.dxt\",\"w\")\n",
    "a=\"my name is subhash\"\n",
    "b=\"father's name is upendra singh\"\n",
    "c=\"I belongs to vaishali , bihar\"\n",
    "file.write(a+\"\\n\"+b+\"\\n\"+c+\"\\n\")"
   ]
  },
  {
   "cell_type": "code",
   "execution_count": 7,
   "id": "0cd3913e",
   "metadata": {},
   "outputs": [
    {
     "name": "stdout",
     "output_type": "stream",
     "text": [
      "subhash 87\n",
      "subhash 87\n"
     ]
    }
   ],
   "source": [
    "# oops in python  ---> object-oriented programming\n",
    "class student:\n",
    "    name=\"subhash\"\n",
    "    marks=87\n",
    "s=student()  #here s is object.\n",
    "s1=student()\n",
    "print(s.name,s.marks)\n",
    "print(s1.name,s1.marks)"
   ]
  },
  {
   "cell_type": "code",
   "execution_count": 9,
   "id": "a26a254f",
   "metadata": {},
   "outputs": [
    {
     "name": "stdout",
     "output_type": "stream",
     "text": [
      "This is a constructor\n",
      "This is a constructor\n",
      "This is a constructor\n"
     ]
    }
   ],
   "source": [
    "#constructor in oops.\n",
    "class student:\n",
    "    def __init__(self):\n",
    "        print(\"This is a constructor\")\n",
    "    \n",
    "s=student()  #here s is object.\n",
    "s1=student()\n",
    "s2=student()"
   ]
  },
  {
   "cell_type": "code",
   "execution_count": 13,
   "id": "3de9cf78",
   "metadata": {},
   "outputs": [
    {
     "name": "stdout",
     "output_type": "stream",
     "text": [
      "Enter name : 'subhash\n",
      "'subhash 75\n",
      "Enter name : navneet\n",
      "Enter name : shivendra\n"
     ]
    }
   ],
   "source": [
    "#constructor in oops.\n",
    "class student:\n",
    "    def __init__(self):\n",
    "        self.name=input(\"Enter name : \")\n",
    "        self.marks=75\n",
    "    \n",
    "s=student()#here s is object.\n",
    "print(s.name,s.marks)\n",
    "s1=student()\n",
    "s2=student()"
   ]
  },
  {
   "cell_type": "code",
   "execution_count": 14,
   "id": "291b149f",
   "metadata": {},
   "outputs": [
    {
     "name": "stdout",
     "output_type": "stream",
     "text": [
      "subhash 22\n",
      "navneet 20\n",
      "shivebdra 25\n"
     ]
    }
   ],
   "source": [
    "class student:\n",
    "    def __init__(self,n,a):\n",
    "        self.name=n\n",
    "        self.age=a\n",
    "    \n",
    "s=student(\"subhash\",22)  #here s is object.\n",
    "print(s.name,s.age)\n",
    "s1=student(\"navneet\",20)\n",
    "print(s1.name,s1.age)\n",
    "s2=student(\"shivebdra\",25)\n",
    "print(s2.name,s2.age)"
   ]
  },
  {
   "cell_type": "code",
   "execution_count": 19,
   "id": "660148ef",
   "metadata": {},
   "outputs": [
    {
     "name": "stdout",
     "output_type": "stream",
     "text": [
      "subhash 22\n",
      "abhishek 22\n",
      "navneet 20\n",
      "shivebdra 25\n"
     ]
    }
   ],
   "source": [
    "class student:\n",
    "    def __init__(self,n,a):\n",
    "        self.name=n\n",
    "        self.age=a\n",
    "    def change_data(self,n):\n",
    "        self.name=n\n",
    "        return self.name\n",
    "    \n",
    "s=student(\"subhash\",22)\n",
    "print(s.name,s.age)\n",
    "updated_name=s.change_data(\"abhishek\")\n",
    "print(s.name,s.age)\n",
    "s1=student(\"navneet\",20)\n",
    "print(s1.name,s1.age)\n",
    "s2=student(\"shivebdra\",25)\n",
    "print(s2.name,s2.age)"
   ]
  },
  {
   "cell_type": "code",
   "execution_count": 34,
   "id": "491cf333",
   "metadata": {},
   "outputs": [
    {
     "name": "stdout",
     "output_type": "stream",
     "text": [
      "Enter employee name : subhash\n",
      "Enter salary : 10000\n",
      "subhash 9980.0\n"
     ]
    }
   ],
   "source": [
    "#WAP using class and object to take the employee name and salary as input and \n",
    "#calculate the total salary after deducting 0.2% salary.\n",
    "class salary:\n",
    "    def __init__(self,n,a):\n",
    "        self.name=n\n",
    "        self.salary1=a\n",
    "    def change_data(self,a):\n",
    "        self.salary1=a\n",
    "        return self.salary1\n",
    "n1=input(\"Enter employee name : \")\n",
    "a1=int(input(\"Enter salary : \"))\n",
    "s=salary(n1,a1)\n",
    "updated_salary1=s.change_data(a1-a1*0.2/100)\n",
    "print(s.name,s.salary1)"
   ]
  },
  {
   "cell_type": "code",
   "execution_count": 32,
   "id": "cac5def1",
   "metadata": {},
   "outputs": [
    {
     "name": "stdout",
     "output_type": "stream",
     "text": [
      "Enter employee name : subhash\n",
      "Enter salary : 10000\n",
      "9980.0\n"
     ]
    }
   ],
   "source": [
    "#WAP using class and object to take the employee name and salary as input and \n",
    "#calculate the total salary after deducting 0.2% salary.\n",
    "class salary:\n",
    "    def __init__(self,n,a):\n",
    "        self.name=n\n",
    "        self.salary1=a\n",
    "    def change_data(self):\n",
    "        return self.salary1-0.002*self.salary1\n",
    "n1=input(\"Enter employee name : \")\n",
    "a1=int(input(\"Enter salary : \"))\n",
    "s=salary(n1,a1)\n",
    "print(s.change_data())"
   ]
  },
  {
   "cell_type": "code",
   "execution_count": 36,
   "id": "cf02379e",
   "metadata": {},
   "outputs": [
    {
     "name": "stdout",
     "output_type": "stream",
     "text": [
      "Enter name :subhash\n",
      "SUBHASH\n"
     ]
    }
   ],
   "source": [
    "#Write a python class which has two method get string and print string.\n",
    "#get string accept a string from the user and print string the string in upper case\n",
    "class string:\n",
    "    def __init__(self,n):\n",
    "        self.name=n\n",
    "    def upper(self):\n",
    "        return self.name.upper()\n",
    "n1=input(\"Enter name :\")\n",
    "s=string(n1)\n",
    "print(s.upper())"
   ]
  },
  {
   "cell_type": "code",
   "execution_count": 41,
   "id": "5b0d2130",
   "metadata": {},
   "outputs": [
    {
     "name": "stdout",
     "output_type": "stream",
     "text": [
      "Enter the string : subhash\n",
      "subhash\n",
      "SUBHASH\n"
     ]
    }
   ],
   "source": [
    "#Write a python class which has two method get string and print string.\n",
    "#get string accept a string from the user and print string the string in upper case\n",
    "class string:\n",
    "    def get_string(self):\n",
    "        self.s=input(\"Enter the string : \")\n",
    "    def print_string(self):\n",
    "        print(self.s.upper())\n",
    "n=string()\n",
    "n.get_string()\n",
    "print(n.s)\n",
    "n.print_string()"
   ]
  },
  {
   "cell_type": "code",
   "execution_count": 43,
   "id": "cef83e89",
   "metadata": {},
   "outputs": [
    {
     "name": "stdout",
     "output_type": "stream",
     "text": [
      "16000\n"
     ]
    }
   ],
   "source": [
    "class employee:\n",
    "    def __init__(self):\n",
    "        self.salary=15000\n",
    "        \n",
    "class programmer(employee):\n",
    "    def give_bonus(self):\n",
    "        return self.salary+1000\n",
    "    \n",
    "p=programmer()\n",
    "print(p.give_bonus())"
   ]
  },
  {
   "cell_type": "code",
   "execution_count": 45,
   "id": "b5d13127",
   "metadata": {},
   "outputs": [
    {
     "name": "stdout",
     "output_type": "stream",
     "text": [
      "This is programmer\n",
      "16000\n"
     ]
    }
   ],
   "source": [
    "class employee:\n",
    "    def __init__(self):\n",
    "        self.salary=15000\n",
    "        \n",
    "class programmer(employee):\n",
    "    def __init__(self):\n",
    "        super().__init__() #calling parent class constructor\n",
    "        print(\"This is programmer\")\n",
    "    def give_bonus(self):\n",
    "        return self.salary+1000\n",
    "    \n",
    "p=programmer()\n",
    "print(p.give_bonus())"
   ]
  },
  {
   "cell_type": "code",
   "execution_count": 53,
   "id": "0122d796",
   "metadata": {},
   "outputs": [
    {
     "name": "stdout",
     "output_type": "stream",
     "text": [
      "16000\n",
      "16200\n"
     ]
    }
   ],
   "source": [
    "class employee:\n",
    "    def __init__(self):\n",
    "        self.salary=15000\n",
    "        \n",
    "class programmer(employee):\n",
    "    def give_bonus(self):\n",
    "        return self.salary+1000\n",
    "    \n",
    "class admin(employee):\n",
    "    def give_bonus(self):\n",
    "        return self.salary+1200\n",
    "    \n",
    "p=programmer()\n",
    "a=admin()\n",
    "print(p.give_bonus())\n",
    "print(a.give_bonus())"
   ]
  },
  {
   "cell_type": "code",
   "execution_count": 56,
   "id": "282f2949",
   "metadata": {},
   "outputs": [
    {
     "name": "stdout",
     "output_type": "stream",
     "text": [
      "This is father\n",
      "This is mother\n",
      "This is child\n"
     ]
    }
   ],
   "source": [
    "class Father:\n",
    "    def display(self):\n",
    "        print(\"This is father\")\n",
    "        \n",
    "class Mother:\n",
    "    def show(self):\n",
    "        print(\"This is mother\")\n",
    "        \n",
    "class child(Father,Mother):\n",
    "    def disp(self):\n",
    "        print(\"This is child\")\n",
    "        \n",
    "c=child()\n",
    "c.display()\n",
    "c.show()\n",
    "c.disp()"
   ]
  },
  {
   "cell_type": "code",
   "execution_count": null,
   "id": "eb53a553",
   "metadata": {},
   "outputs": [],
   "source": [
    "num=int(input(\"Enter any number : \"))\n",
    "if(num>0):\n",
    "    print(\"Positive number \")\n",
    "elif(num<0):\n",
    "    print(\"negative number \")\n",
    "    "
   ]
  }
 ],
 "metadata": {
  "kernelspec": {
   "display_name": "Python 3 (ipykernel)",
   "language": "python",
   "name": "python3"
  },
  "language_info": {
   "codemirror_mode": {
    "name": "ipython",
    "version": 3
   },
   "file_extension": ".py",
   "mimetype": "text/x-python",
   "name": "python",
   "nbconvert_exporter": "python",
   "pygments_lexer": "ipython3",
   "version": "3.11.2"
  }
 },
 "nbformat": 4,
 "nbformat_minor": 5
}
