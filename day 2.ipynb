{
 "cells": [
  {
   "cell_type": "code",
   "execution_count": 2,
   "id": "00d6ac05",
   "metadata": {},
   "outputs": [
    {
     "name": "stdout",
     "output_type": "stream",
     "text": [
      "Enter first number : 65765\n",
      "Enter second number : 665\n",
      "Enter third number : 809\n",
      "665 809 65765\n"
     ]
    }
   ],
   "source": [
    "#WAP to input three numbers and arrange them is ascending order:\n",
    "n1=int(input(\"Enter first number : \"))\n",
    "n2=int(input(\"Enter second number : \"))\n",
    "n3=int(input(\"Enter third number : \"))\n",
    "if(n1<n2 and n1<n3):\n",
    "    if(n2<n3):\n",
    "        print(n1,n2,n3)\n",
    "    else:\n",
    "        print(n1,n3,n2)\n",
    "elif(n2<n1 and n2<n3):\n",
    "    if(n1<n3):\n",
    "        print(n2,n1,n3)\n",
    "    else:\n",
    "        print(n2,n3,n1)\n",
    "else:\n",
    "    if(n1<n2):\n",
    "        print(n3,n1,n2)\n",
    "    else:\n",
    "        print(n3,n2,n1)"
   ]
  },
  {
   "cell_type": "code",
   "execution_count": 13,
   "id": "d33831cb",
   "metadata": {},
   "outputs": [
    {
     "name": "stdout",
     "output_type": "stream",
     "text": [
      "Enter first number : 8\n",
      "Enter second number : 9\n",
      "Enter third number : 10\n",
      "largest number =  10\n"
     ]
    }
   ],
   "source": [
    "#WAP to input three numbers and print largest number:\n",
    "n1=int(input(\"Enter first number : \"))\n",
    "n2=int(input(\"Enter second number : \"))\n",
    "n3=int(input(\"Enter third number : \"))\n",
    "if(n1>n2):\n",
    "    if(n1>n3):\n",
    "        print(\"largest number = \",n1)\n",
    "elif(n2>n3):\n",
    "    print(\"largest number = \",n2)\n",
    "else:\n",
    "    print(\"largest number = \",n3)"
   ]
  },
  {
   "cell_type": "code",
   "execution_count": 42,
   "id": "578a05bb",
   "metadata": {},
   "outputs": [
    {
     "name": "stdout",
     "output_type": "stream",
     "text": [
      "1 2 3 4 5 6 7 8 9 10 11 12 13 14 15 16 17 18 19 20 "
     ]
    }
   ],
   "source": [
    "#WAP to print from 1 to 20:\n",
    "for i in range(1,21):\n",
    "    print(i,end=' ')"
   ]
  },
  {
   "cell_type": "code",
   "execution_count": 40,
   "id": "fb9ffce7",
   "metadata": {},
   "outputs": [
    {
     "name": "stdout",
     "output_type": "stream",
     "text": [
      "10 12 14 16 18 "
     ]
    }
   ],
   "source": [
    "#WAP to print all even numbers from 10 to 20:\n",
    "for i in range(10,20,2):\n",
    "    print(i,end=' ')"
   ]
  },
  {
   "cell_type": "code",
   "execution_count": 20,
   "id": "2141bffa",
   "metadata": {},
   "outputs": [
    {
     "name": "stdout",
     "output_type": "stream",
     "text": [
      "70\n",
      "75\n"
     ]
    }
   ],
   "source": [
    "#WAP to print the all even and odd number:\n",
    "sum=0\n",
    "for i in range(10,20,2):\n",
    "    sum+=i\n",
    "print(sum)\n",
    "sum=0\n",
    "for i in range(11,20,2):\n",
    "    sum+=i\n",
    "print(sum)"
   ]
  },
  {
   "cell_type": "code",
   "execution_count": 21,
   "id": "5ca4438d",
   "metadata": {},
   "outputs": [
    {
     "name": "stdout",
     "output_type": "stream",
     "text": [
      "70 75\n"
     ]
    }
   ],
   "source": [
    "#WAP to print the all even and odd number:\n",
    "s=t=0\n",
    "for i in range(10,20):\n",
    "    if(i%2==0):\n",
    "        s+=i\n",
    "    else:\n",
    "        t+=i\n",
    "print(s,t)"
   ]
  },
  {
   "cell_type": "code",
   "execution_count": 24,
   "id": "06a1db42",
   "metadata": {},
   "outputs": [
    {
     "name": "stdout",
     "output_type": "stream",
     "text": [
      "Enter any number : 6\n",
      "Factorial =  720\n"
     ]
    }
   ],
   "source": [
    "#WAP to input a number and print its factorial:\n",
    "num=int(input(\"Enter any number : \"))\n",
    "f=1\n",
    "for i in range(1,num+1):\n",
    "    f*=i\n",
    "print(\"Factorial = \",f)"
   ]
  },
  {
   "cell_type": "code",
   "execution_count": 39,
   "id": "912abf16",
   "metadata": {},
   "outputs": [
    {
     "name": "stdout",
     "output_type": "stream",
     "text": [
      "0 1 1 2 3 5 8 13 21 "
     ]
    }
   ],
   "source": [
    "#WAP to print fibonacci series:\n",
    "n1,n2=0,1\n",
    "print(n1,n2,end=' ')\n",
    "for i in range(1,8):\n",
    "    i=n1+n2\n",
    "    print(i,end=' ')\n",
    "    n1=n2\n",
    "    n2=i"
   ]
  },
  {
   "cell_type": "code",
   "execution_count": 36,
   "id": "b4c67fb3",
   "metadata": {},
   "outputs": [
    {
     "name": "stdout",
     "output_type": "stream",
     "text": [
      "Enter any number : 10\n",
      "1/ 1 ! + 1/ 2 ! + 1/ 3 ! + 1/ 4 ! + 1/ 5 ! + 1/ 6 ! + 1/ 7 ! + 1/ 8 ! + 1/ 9 ! + 1/ 10 !\n"
     ]
    }
   ],
   "source": [
    "#WAP to print the following series:\n",
    "n=int(input(\"Enter any number : \"))\n",
    "for i in range(1,n+1):\n",
    "    if(i<n):\n",
    "        print(\"1/\",i,\"! +\",end=' ')\n",
    "    else:\n",
    "        print(\"1/\",i,\"!\")"
   ]
  },
  {
   "cell_type": "code",
   "execution_count": 37,
   "id": "84a6d06e",
   "metadata": {},
   "outputs": [
    {
     "name": "stdout",
     "output_type": "stream",
     "text": [
      "Enter any number : 2\n",
      "1.5\n"
     ]
    }
   ],
   "source": [
    "#WAP to print the following series:\n",
    "n=int(input(\"Enter any number : \"))\n",
    "s,f=0,1\n",
    "for i in range(1,n+1):\n",
    "    f*=i\n",
    "    m=1/f\n",
    "    s+=m\n",
    "print(s)"
   ]
  },
  {
   "cell_type": "code",
   "execution_count": null,
   "id": "179e86cf",
   "metadata": {},
   "outputs": [],
   "source": []
  }
 ],
 "metadata": {
  "kernelspec": {
   "display_name": "Python 3 (ipykernel)",
   "language": "python",
   "name": "python3"
  },
  "language_info": {
   "codemirror_mode": {
    "name": "ipython",
    "version": 3
   },
   "file_extension": ".py",
   "mimetype": "text/x-python",
   "name": "python",
   "nbconvert_exporter": "python",
   "pygments_lexer": "ipython3",
   "version": "3.11.2"
  }
 },
 "nbformat": 4,
 "nbformat_minor": 5
}
